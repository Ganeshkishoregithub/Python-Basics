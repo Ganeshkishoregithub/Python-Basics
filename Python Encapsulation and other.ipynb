{
 "cells": [
  {
   "cell_type": "code",
   "execution_count": 1,
   "id": "1f0de3e8",
   "metadata": {},
   "outputs": [
    {
     "data": {
      "text/plain": [
       "'cvvdfdadfdbvsds'"
      ]
     },
     "execution_count": 1,
     "metadata": {},
     "output_type": "execute_result"
    }
   ],
   "source": [
    "\"\"\"cvvdfdadfdbvsds\"\"\""
   ]
  },
  {
   "cell_type": "code",
   "execution_count": 3,
   "id": "303f8baf",
   "metadata": {},
   "outputs": [
    {
     "name": "stdout",
     "output_type": "stream",
     "text": [
      "True\n"
     ]
    }
   ],
   "source": [
    "print(bool(\"abc\"))"
   ]
  },
  {
   "cell_type": "code",
   "execution_count": 4,
   "id": "f5f6905d",
   "metadata": {},
   "outputs": [
    {
     "name": "stdout",
     "output_type": "stream",
     "text": [
      "False\n"
     ]
    }
   ],
   "source": [
    "print(bool(0))"
   ]
  },
  {
   "cell_type": "code",
   "execution_count": 5,
   "id": "496759e7",
   "metadata": {},
   "outputs": [],
   "source": [
    "#Class 7"
   ]
  },
  {
   "cell_type": "code",
   "execution_count": 6,
   "id": "817270a2",
   "metadata": {},
   "outputs": [],
   "source": [
    "#Encapusulaion\n",
    "#public \n",
    "class test():\n",
    "    val = 'test'"
   ]
  },
  {
   "cell_type": "code",
   "execution_count": 9,
   "id": "ef3e3c8a",
   "metadata": {},
   "outputs": [
    {
     "data": {
      "text/plain": [
       "'test'"
      ]
     },
     "execution_count": 9,
     "metadata": {},
     "output_type": "execute_result"
    }
   ],
   "source": [
    "a=test()\n",
    "a.val"
   ]
  },
  {
   "cell_type": "code",
   "execution_count": 11,
   "id": "f3f9c350",
   "metadata": {},
   "outputs": [
    {
     "data": {
      "text/plain": [
       "'Demo'"
      ]
     },
     "execution_count": 11,
     "metadata": {},
     "output_type": "execute_result"
    }
   ],
   "source": [
    "a.val =\"Demo\"\n",
    "a.val"
   ]
  },
  {
   "cell_type": "code",
   "execution_count": 16,
   "id": "31d1c8db",
   "metadata": {},
   "outputs": [],
   "source": [
    "#private variable\n",
    "class test():\n",
    "    __val =\"test\"\n",
    "    def getval(self):\n",
    "        return self.__val\n",
    "    def setval(self,val):\n",
    "        self.__val=val"
   ]
  },
  {
   "cell_type": "code",
   "execution_count": 17,
   "id": "78d19d55",
   "metadata": {},
   "outputs": [
    {
     "data": {
      "text/plain": [
       "'test'"
      ]
     },
     "execution_count": 17,
     "metadata": {},
     "output_type": "execute_result"
    }
   ],
   "source": [
    "a=test()\n",
    "a.getval()"
   ]
  },
  {
   "cell_type": "code",
   "execution_count": 18,
   "id": "c5703c57",
   "metadata": {},
   "outputs": [],
   "source": [
    "a.setval(\"Demo\")"
   ]
  },
  {
   "cell_type": "code",
   "execution_count": 19,
   "id": "d377937a",
   "metadata": {},
   "outputs": [
    {
     "data": {
      "text/plain": [
       "'Demo'"
      ]
     },
     "execution_count": 19,
     "metadata": {},
     "output_type": "execute_result"
    }
   ],
   "source": [
    "a.getval()"
   ]
  },
  {
   "cell_type": "code",
   "execution_count": 20,
   "id": "9b35969d",
   "metadata": {},
   "outputs": [],
   "source": [
    "# Public Variable- Can we used anywhere in the class\n",
    "# Protect Variable- Can we used by the class and the inherited class, _val\n",
    "# Private Variable- can be used only by the parentclass, __val"
   ]
  },
  {
   "cell_type": "code",
   "execution_count": 33,
   "id": "d8c7ddf9",
   "metadata": {},
   "outputs": [],
   "source": [
    "#Super- when we use two different constructors we use super().__init__()\n",
    "class parent():\n",
    "    def __init__(self):\n",
    "        self.name=\"Parent\"\n",
    "        "
   ]
  },
  {
   "cell_type": "code",
   "execution_count": 34,
   "id": "2e18b05b",
   "metadata": {},
   "outputs": [],
   "source": [
    "class child(parent):\n",
    "    def __init__(self):\n",
    "        super().__init__()\n",
    "        self.childname=\"child\"\n",
    "        "
   ]
  },
  {
   "cell_type": "code",
   "execution_count": 35,
   "id": "660e042c",
   "metadata": {},
   "outputs": [],
   "source": [
    "a=child()\n"
   ]
  },
  {
   "cell_type": "code",
   "execution_count": 38,
   "id": "f0c029a6",
   "metadata": {},
   "outputs": [
    {
     "data": {
      "text/plain": [
       "'child'"
      ]
     },
     "execution_count": 38,
     "metadata": {},
     "output_type": "execute_result"
    }
   ],
   "source": [
    "a.childname"
   ]
  },
  {
   "cell_type": "code",
   "execution_count": 39,
   "id": "3b520ec5",
   "metadata": {},
   "outputs": [
    {
     "data": {
      "text/plain": [
       "'Parent'"
      ]
     },
     "execution_count": 39,
     "metadata": {},
     "output_type": "execute_result"
    }
   ],
   "source": [
    "a.name"
   ]
  },
  {
   "cell_type": "code",
   "execution_count": 42,
   "id": "c02c7085",
   "metadata": {},
   "outputs": [],
   "source": [
    "#static method - calling the method without creating a object\n",
    "class test():\n",
    "    def a(self):\n",
    "        print(\"a\")\n",
    "    def b(self):\n",
    "        print(\"b\")\n",
    "    @staticmethod\n",
    "    def c():\n",
    "        print(\"c\")"
   ]
  },
  {
   "cell_type": "code",
   "execution_count": 45,
   "id": "9c503e11",
   "metadata": {},
   "outputs": [
    {
     "name": "stdout",
     "output_type": "stream",
     "text": [
      "c\n"
     ]
    }
   ],
   "source": [
    "test.c() #Here since we use static we no need to create a object"
   ]
  },
  {
   "cell_type": "code",
   "execution_count": 49,
   "id": "7aca6afa",
   "metadata": {},
   "outputs": [
    {
     "name": "stdout",
     "output_type": "stream",
     "text": [
      "0\n",
      "1\n",
      "2\n",
      "3\n",
      "4\n"
     ]
    }
   ],
   "source": [
    "#break, continue, pass statements\n",
    "for i in range(10):\n",
    "    if i==5:\n",
    "        break\n",
    "    print(i)"
   ]
  },
  {
   "cell_type": "code",
   "execution_count": 50,
   "id": "9c68207a",
   "metadata": {},
   "outputs": [
    {
     "name": "stdout",
     "output_type": "stream",
     "text": [
      "0\n",
      "1\n",
      "2\n",
      "3\n",
      "4\n",
      "6\n",
      "7\n",
      "8\n",
      "9\n"
     ]
    }
   ],
   "source": [
    "for i in range(10):\n",
    "    if i==5:\n",
    "        continue\n",
    "    print(i)"
   ]
  },
  {
   "cell_type": "code",
   "execution_count": 51,
   "id": "5a6cce20",
   "metadata": {},
   "outputs": [
    {
     "name": "stdout",
     "output_type": "stream",
     "text": [
      "0\n",
      "1\n",
      "2\n",
      "3\n",
      "4\n",
      "5\n",
      "6\n",
      "7\n",
      "8\n",
      "9\n"
     ]
    }
   ],
   "source": [
    "for i in range(10):\n",
    "    if i==5:\n",
    "        pass\n",
    "    print(i)"
   ]
  },
  {
   "cell_type": "code",
   "execution_count": 54,
   "id": "28cec57d",
   "metadata": {},
   "outputs": [],
   "source": [
    "#List Comphrension\n",
    "a=[i for i in range(10) if i%2==0]"
   ]
  },
  {
   "cell_type": "code",
   "execution_count": 53,
   "id": "6f889f03",
   "metadata": {},
   "outputs": [
    {
     "data": {
      "text/plain": [
       "[0, 2, 4, 6, 8]"
      ]
     },
     "execution_count": 53,
     "metadata": {},
     "output_type": "execute_result"
    }
   ],
   "source": [
    "a"
   ]
  },
  {
   "cell_type": "code",
   "execution_count": 63,
   "id": "42ec78a4",
   "metadata": {},
   "outputs": [],
   "source": [
    "#Nested if\n",
    "a=[[j for j in range(2)]for i in range(5)]"
   ]
  },
  {
   "cell_type": "code",
   "execution_count": 64,
   "id": "b5d268c1",
   "metadata": {},
   "outputs": [
    {
     "data": {
      "text/plain": [
       "[[0, 1], [0, 1], [0, 1], [0, 1], [0, 1]]"
      ]
     },
     "execution_count": 64,
     "metadata": {},
     "output_type": "execute_result"
    }
   ],
   "source": [
    "a"
   ]
  },
  {
   "cell_type": "code",
   "execution_count": 66,
   "id": "a39712d4",
   "metadata": {},
   "outputs": [
    {
     "name": "stdout",
     "output_type": "stream",
     "text": [
      "{'one': 1, 'two': 2, 'Three': 3}\n"
     ]
    }
   ],
   "source": [
    "a=[\"one\",\"two\",\"Three\"]\n",
    "b=[1,2,3]\n",
    "print(dict(zip(a,b)))"
   ]
  },
  {
   "cell_type": "code",
   "execution_count": 67,
   "id": "6556bf61",
   "metadata": {},
   "outputs": [
    {
     "ename": "SyntaxError",
     "evalue": "invalid syntax (547111843.py, line 1)",
     "output_type": "error",
     "traceback": [
      "\u001b[1;36m  File \u001b[1;32m\"C:\\Users\\ganes\\AppData\\Local\\Temp\\ipykernel_7876\\547111843.py\"\u001b[1;36m, line \u001b[1;32m1\u001b[0m\n\u001b[1;33m    50% - Base salary\u001b[0m\n\u001b[1;37m               ^\u001b[0m\n\u001b[1;31mSyntaxError\u001b[0m\u001b[1;31m:\u001b[0m invalid syntax\n"
     ]
    }
   ],
   "source": [
    "50% - Base salary\n",
    "20%- allowance\n",
    "30-% - tax"
   ]
  },
  {
   "cell_type": "code",
   "execution_count": 99,
   "id": "9b346549",
   "metadata": {},
   "outputs": [],
   "source": [
    "class employee():\n",
    "    def __init__ (self,name):\n",
    "        self.name=name\n",
    "    __salary =1000\n",
    "    def getval(self):\n",
    "        return self.__salary\n",
    "    def setval(self,salary):\n",
    "        self.__salary=salary\n",
    "        \n",
    "class salary(employee):\n",
    "    def salarybreak():\n",
    "        b=salary\n",
    "        print(b)\n"
   ]
  },
  {
   "cell_type": "code",
   "execution_count": 100,
   "id": "c86154d5",
   "metadata": {},
   "outputs": [
    {
     "name": "stdout",
     "output_type": "stream",
     "text": [
      "[1, 2, 3]\n"
     ]
    }
   ],
   "source": [
    "a=salary(\"Ganesh\")\n",
    "a.getval()\n",
    "print(b)"
   ]
  },
  {
   "cell_type": "code",
   "execution_count": 95,
   "id": "dd3e6bf9",
   "metadata": {},
   "outputs": [
    {
     "name": "stdout",
     "output_type": "stream",
     "text": [
      "[1, 2, 3]\n"
     ]
    }
   ],
   "source": []
  },
  {
   "cell_type": "code",
   "execution_count": null,
   "id": "28d69c96",
   "metadata": {},
   "outputs": [],
   "source": []
  }
 ],
 "metadata": {
  "kernelspec": {
   "display_name": "Python 3 (ipykernel)",
   "language": "python",
   "name": "python3"
  },
  "language_info": {
   "codemirror_mode": {
    "name": "ipython",
    "version": 3
   },
   "file_extension": ".py",
   "mimetype": "text/x-python",
   "name": "python",
   "nbconvert_exporter": "python",
   "pygments_lexer": "ipython3",
   "version": "3.9.13"
  }
 },
 "nbformat": 4,
 "nbformat_minor": 5
}
