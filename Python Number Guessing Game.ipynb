{
 "cells": [
  {
   "cell_type": "code",
   "execution_count": null,
   "id": "a44a34e5",
   "metadata": {},
   "outputs": [],
   "source": []
  },
  {
   "cell_type": "code",
   "execution_count": 9,
   "id": "3d3f9622",
   "metadata": {},
   "outputs": [
    {
     "name": "stdout",
     "output_type": "stream",
     "text": [
      "Enter the Lower limit:20\n",
      "Enter the Upper limit: 60\n",
      "Number of Guess available:  5\n",
      "Enter your guess, 40\n",
      "Your guess is above the criteria\n",
      "Enter your guess, 20\n",
      "Your guess is above the criteria\n",
      "Enter your guess, 1\n",
      "Your guess is above the criteria\n",
      "Enter your guess, 2\n",
      "Your guess is above the criteria\n",
      "Enter your guess, 23\n",
      "Your guess is above the criteria\n",
      "The number of chance has reached: 5\n",
      "The exact number is  50\n",
      "OOPS! Better like next time\n"
     ]
    }
   ],
   "source": [
    "import math\n",
    "import random\n",
    "lower=int(input(\"Enter the Lower limit:\"))\n",
    "upper=int(input(\"Enter the Upper limit: \"))\n",
    "x=random.randint(lower,upper)\n",
    "count=round(math.log(upper-lower+1,2))\n",
    "print(\"Number of Guess available: \",count)\n",
    "chance=0\n",
    "while chance < count:\n",
    "    chance+=1\n",
    "    guess=int(input(\"Enter your guess, \"))\n",
    "    if x==guess:\n",
    "        print(\"Congraluation!!! you have won the Game in the try: \",chance)\n",
    "        \n",
    "        break\n",
    "    elif x>guess:\n",
    "        print(\"Your guess is above the criteria\")\n",
    "    elif x<guess:\n",
    "        print(\"Your guess is below the criteria\")\n",
    "if chance>=count:\n",
    "    print(\"The number of chance has reached:\",chance)\n",
    "    print(\"The exact number is \",x)\n",
    "    print(\"OOPS! Better like next time\")"
   ]
  },
  {
   "cell_type": "markdown",
   "id": "ff89f30e",
   "metadata": {},
   "source": [
    "##### "
   ]
  }
 ],
 "metadata": {
  "kernelspec": {
   "display_name": "Python 3 (ipykernel)",
   "language": "python",
   "name": "python3"
  },
  "language_info": {
   "codemirror_mode": {
    "name": "ipython",
    "version": 3
   },
   "file_extension": ".py",
   "mimetype": "text/x-python",
   "name": "python",
   "nbconvert_exporter": "python",
   "pygments_lexer": "ipython3",
   "version": "3.9.13"
  }
 },
 "nbformat": 4,
 "nbformat_minor": 5
}
