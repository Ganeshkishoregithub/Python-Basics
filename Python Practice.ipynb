{
 "cells": [
  {
   "cell_type": "code",
   "execution_count": 7,
   "id": "49b4f0d1",
   "metadata": {},
   "outputs": [],
   "source": [
    "def val(a,b):\n",
    "    print(\"value of a is\",a)\n",
    "    print(\"value of b is\",b)\n",
    "    def add(a,b):\n",
    "        c=a+b\n",
    "        print(\"The valuer of c is\",c+6)\n",
    "        print(\"Sum of a and b is \",c)\n",
    "        "
   ]
  },
  {
   "cell_type": "code",
   "execution_count": 10,
   "id": "df37ed1d",
   "metadata": {},
   "outputs": [
    {
     "name": "stdout",
     "output_type": "stream",
     "text": [
      "value of a is 2\n",
      "value of b is 3\n"
     ]
    },
    {
     "ename": "TypeError",
     "evalue": "add() takes 1 positional argument but 2 were given",
     "output_type": "error",
     "traceback": [
      "\u001b[1;31m---------------------------------------------------------------------------\u001b[0m",
      "\u001b[1;31mTypeError\u001b[0m                                 Traceback (most recent call last)",
      "\u001b[1;32m~\\AppData\\Local\\Temp\\ipykernel_19656\\51010853.py\u001b[0m in \u001b[0;36m<module>\u001b[1;34m\u001b[0m\n\u001b[0;32m      1\u001b[0m \u001b[0mval\u001b[0m\u001b[1;33m(\u001b[0m\u001b[1;36m2\u001b[0m\u001b[1;33m,\u001b[0m\u001b[1;36m3\u001b[0m\u001b[1;33m)\u001b[0m\u001b[1;33m\u001b[0m\u001b[1;33m\u001b[0m\u001b[0m\n\u001b[1;32m----> 2\u001b[1;33m \u001b[0madd\u001b[0m\u001b[1;33m(\u001b[0m\u001b[1;36m2\u001b[0m\u001b[1;33m,\u001b[0m\u001b[1;36m3\u001b[0m\u001b[1;33m)\u001b[0m\u001b[1;33m\u001b[0m\u001b[1;33m\u001b[0m\u001b[0m\n\u001b[0m",
      "\u001b[1;31mTypeError\u001b[0m: add() takes 1 positional argument but 2 were given"
     ]
    }
   ],
   "source": [
    "val(2,3)\n",
    "add(2,3)"
   ]
  },
  {
   "cell_type": "code",
   "execution_count": 11,
   "id": "d6b0c94c",
   "metadata": {},
   "outputs": [],
   "source": [
    "def add(a):\n",
    "    d=0\n",
    "    for i in a:\n",
    "        d+=i\n",
    "    print(d)"
   ]
  },
  {
   "cell_type": "code",
   "execution_count": 30,
   "id": "f92d3df6",
   "metadata": {},
   "outputs": [
    {
     "name": "stdout",
     "output_type": "stream",
     "text": [
      "55\n"
     ]
    }
   ],
   "source": [
    "add([1,2,3,4,5,6,7,8,9,10])"
   ]
  },
  {
   "cell_type": "code",
   "execution_count": 40,
   "id": "e576f651",
   "metadata": {},
   "outputs": [],
   "source": [
    "def lists(a,b):\n",
    "    print(a[1::2])\n",
    "    print(b[0::2])"
   ]
  },
  {
   "cell_type": "code",
   "execution_count": 41,
   "id": "3ffb3e2b",
   "metadata": {},
   "outputs": [
    {
     "name": "stdout",
     "output_type": "stream",
     "text": [
      "[2, 4, 6, 8]\n",
      "[3, 1, 5, 7, 3]\n"
     ]
    }
   ],
   "source": [
    "lists([1,2,3,4,5,6,7,8,9],[3,2,1,4,5,6,7,8,3])"
   ]
  },
  {
   "cell_type": "code",
   "execution_count": 52,
   "id": "11254d0d",
   "metadata": {},
   "outputs": [],
   "source": [
    "def lists(a):\n",
    "    b= a.pop(4)\n",
    "    print(\"List after removing 4th index \",a)\n",
    "    a.insert(2,b)\n",
    "    print(\"List after adding  2th index \",a)\n",
    "    a.append(b)\n",
    "    print(\"List after adding  at the end index \",a)"
   ]
  },
  {
   "cell_type": "code",
   "execution_count": 53,
   "id": "9e1e2161",
   "metadata": {},
   "outputs": [
    {
     "name": "stdout",
     "output_type": "stream",
     "text": [
      "List after removing 4th index  [20, 30, 40, 50, 70, 10]\n",
      "List after adding  2th index  [20, 30, 60, 40, 50, 70, 10]\n",
      "List after adding  at the end index  [20, 30, 60, 40, 50, 70, 10, 60]\n"
     ]
    }
   ],
   "source": [
    "lists([20,30,40,50,60,70,10])"
   ]
  },
  {
   "cell_type": "code",
   "execution_count": 57,
   "id": "5d3f3ac7",
   "metadata": {},
   "outputs": [],
   "source": [
    "def list(a):\n",
    "    d={}\n",
    "    for i in a:\n",
    "        if i in d:\n",
    "            d[i]+=1\n",
    "        else:\n",
    "            d[i]=1\n",
    "    print(d)"
   ]
  },
  {
   "cell_type": "code",
   "execution_count": 58,
   "id": "409192f3",
   "metadata": {},
   "outputs": [
    {
     "name": "stdout",
     "output_type": "stream",
     "text": [
      "{11: 4, 1: 2, 2: 1, 3: 1, 111: 1}\n"
     ]
    }
   ],
   "source": [
    "list([11,1,2,1,3,111,11,11,11])"
   ]
  },
  {
   "cell_type": "code",
   "execution_count": 59,
   "id": "ae910b58",
   "metadata": {},
   "outputs": [
    {
     "name": "stdout",
     "output_type": "stream",
     "text": [
      "First Set  {57, 83, 29}\n",
      "Second Set  {48, 67, 83, 73, 43, 29, 57}\n",
      "First set is subset of second set - True\n",
      "Second set is subset of First set -  False\n",
      "First set is Super set of second set -  False\n",
      "Second set is Super set of First set -  True\n",
      "First Set  set()\n",
      "Second Set  {48, 67, 83, 73, 43, 29, 57}\n"
     ]
    }
   ],
   "source": [
    "first_set = {57, 83, 29}\n",
    "second_set = {57, 83, 29, 67, 73, 43, 48}\n",
    "\n",
    "print(\"First Set \", first_set)\n",
    "print(\"Second Set \", second_set)\n",
    "\n",
    "print(\"First set is subset of second set -\", first_set.issubset(second_set))\n",
    "print(\"Second set is subset of First set - \", second_set.issubset(first_set))\n",
    "\n",
    "print(\"First set is Super set of second set - \", first_set.issuperset(second_set))\n",
    "print(\"Second set is Super set of First set - \", second_set.issuperset(first_set))\n",
    "\n",
    "if first_set.issubset(second_set):\n",
    "    first_set.clear()\n",
    "\n",
    "if second_set.issubset(first_set):\n",
    "    second_set.clear()\n",
    "\n",
    "print(\"First Set \", first_set)\n",
    "print(\"Second Set \", second_set)\n"
   ]
  },
  {
   "cell_type": "code",
   "execution_count": 79,
   "id": "c6e9dcef",
   "metadata": {},
   "outputs": [
    {
     "name": "stdout",
     "output_type": "stream",
     "text": [
      "[24, 46, 45, 44]\n"
     ]
    }
   ],
   "source": [
    "a=[21,22,23,24,46,45,44]\n",
    "b={\"name\": \"Ganesh\",\"age\":47,\"age1\":21,\"age2\":22,\"age3\":23}\n",
    "c=(b.values())\n",
    "d=[]\n",
    "for i in a:\n",
    "    if i not in c:\n",
    "        d.append(i)\n",
    "print(d)\n",
    "        \n",
    "    \n",
    "\n",
    "    "
   ]
  },
  {
   "cell_type": "code",
   "execution_count": 93,
   "id": "291c29a7",
   "metadata": {},
   "outputs": [
    {
     "name": "stdout",
     "output_type": "stream",
     "text": [
      "['Ganesh', 47, 21, 22, 23]\n"
     ]
    }
   ],
   "source": [
    "a={\"name\": \"Ganesh\",\"age\":47,\"age1\":21,\"age2\":22,\"age3\":23,\"age4\":23,\"age5\":22}\n",
    "b=(a.values())\n",
    "c=[]\n",
    "for i in b:\n",
    "    if i not in c:\n",
    "        c.append(i)\n",
    "print(c)"
   ]
  },
  {
   "cell_type": "code",
   "execution_count": 119,
   "id": "6902ca74",
   "metadata": {},
   "outputs": [],
   "source": [
    "def lists(a):\n",
    "    b=(set(a))\n",
    "    \n",
    "    print(b)\n",
    "    print(tuple(a))\n",
    "    print(max(a))\n",
    "    print(min(a))"
   ]
  },
  {
   "cell_type": "code",
   "execution_count": 120,
   "id": "f829e5ff",
   "metadata": {},
   "outputs": [
    {
     "name": "stdout",
     "output_type": "stream",
     "text": [
      "{21, 22, 23, 24, 25, 26, 27}\n",
      "(21, 22, 23, 24, 25, 26, 27, 22, 23, 24, 25)\n",
      "27\n",
      "21\n"
     ]
    }
   ],
   "source": [
    "lists([21,22,23,24,25,26,27,22,23,24,25])"
   ]
  },
  {
   "cell_type": "code",
   "execution_count": 129,
   "id": "e3e3a2b0",
   "metadata": {},
   "outputs": [
    {
     "name": "stdout",
     "output_type": "stream",
     "text": [
      "1 \n",
      "1 2 \n",
      "1 2 3 \n",
      "1 2 3 4 \n",
      "1 2 3 4 5 \n",
      "1 2 3 4 5 6 \n"
     ]
    }
   ],
   "source": [
    "n = 6  \n",
    "for i in range(0,n):  \n",
    "        for j in range(0, i + 1):  \n",
    "            # printing stars  \n",
    "            print(j+1,end=\" \") \n",
    "        print()\n"
   ]
  },
  {
   "cell_type": "code",
   "execution_count": 14,
   "id": "1e448ad0",
   "metadata": {},
   "outputs": [],
   "source": [
    "def mul(mulnum, endnum):\n",
    "    for i in range (endnum):\n",
    "           print(i*mulnum)\n",
    "    "
   ]
  },
  {
   "cell_type": "code",
   "execution_count": 15,
   "id": "8b1fe565",
   "metadata": {},
   "outputs": [
    {
     "name": "stdout",
     "output_type": "stream",
     "text": [
      "0\n",
      "2\n",
      "4\n",
      "6\n",
      "8\n",
      "10\n",
      "12\n",
      "14\n",
      "16\n",
      "18\n"
     ]
    }
   ],
   "source": [
    "mul(2,10)"
   ]
  },
  {
   "cell_type": "code",
   "execution_count": null,
   "id": "3751aa7f",
   "metadata": {},
   "outputs": [],
   "source": [
    "def lists(a):\n",
    "    for i in a:\n",
    "        if i >500:\n",
    "            break\n",
    "        if "
   ]
  }
 ],
 "metadata": {
  "kernelspec": {
   "display_name": "Python 3 (ipykernel)",
   "language": "python",
   "name": "python3"
  },
  "language_info": {
   "codemirror_mode": {
    "name": "ipython",
    "version": 3
   },
   "file_extension": ".py",
   "mimetype": "text/x-python",
   "name": "python",
   "nbconvert_exporter": "python",
   "pygments_lexer": "ipython3",
   "version": "3.9.13"
  }
 },
 "nbformat": 4,
 "nbformat_minor": 5
}
