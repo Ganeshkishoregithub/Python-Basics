{
 "cells": [
  {
   "cell_type": "code",
   "execution_count": 1,
   "id": "4a16827c",
   "metadata": {},
   "outputs": [
    {
     "name": "stdout",
     "output_type": "stream",
     "text": [
      "Hello World\n"
     ]
    }
   ],
   "source": [
    "\n",
    "print (\"Hello World\")"
   ]
  },
  {
   "cell_type": "code",
   "execution_count": 10,
   "id": "c7e70128",
   "metadata": {},
   "outputs": [
    {
     "name": "stdout",
     "output_type": "stream",
     "text": [
      "Hello\n"
     ]
    }
   ],
   "source": [
    "#print (\"Hi\")\n",
    "print(\"Hello\")"
   ]
  },
  {
   "cell_type": "code",
   "execution_count": 5,
   "id": "4748c233",
   "metadata": {},
   "outputs": [
    {
     "name": "stdout",
     "output_type": "stream",
     "text": [
      "hi \n",
      "Welcome \n",
      "hello\n"
     ]
    }
   ],
   "source": [
    "print (\"hi \\nWelcome \\nhello\")"
   ]
  },
  {
   "cell_type": "code",
   "execution_count": 7,
   "id": "7c87f017",
   "metadata": {},
   "outputs": [
    {
     "name": "stdout",
     "output_type": "stream",
     "text": [
      "hi\thello\twelcome\n"
     ]
    }
   ],
   "source": [
    "print('hi\\thello\\twelcome')"
   ]
  },
  {
   "cell_type": "code",
   "execution_count": 8,
   "id": "48e21f82",
   "metadata": {},
   "outputs": [
    {
     "name": "stdout",
     "output_type": "stream",
     "text": [
      "hi\n",
      "Welcome\n"
     ]
    }
   ],
   "source": [
    "print('hi')\n",
    "#print('hello')\n",
    "print('Welcome')"
   ]
  },
  {
   "cell_type": "code",
   "execution_count": 11,
   "id": "2a2556a1",
   "metadata": {},
   "outputs": [],
   "source": [
    "# print('hi')\n",
    "# print('hello')\n",
    "# print('Welcome')"
   ]
  },
  {
   "cell_type": "code",
   "execution_count": 13,
   "id": "06094043",
   "metadata": {},
   "outputs": [
    {
     "data": {
      "text/plain": [
       "'\\nadergtrfw  -- Multi line comment\\n'"
      ]
     },
     "execution_count": 13,
     "metadata": {},
     "output_type": "execute_result"
    }
   ],
   "source": [
    "\"\"\"\n",
    "adergtrfw  -- Multi line comment\n",
    "\"\"\""
   ]
  },
  {
   "cell_type": "code",
   "execution_count": 14,
   "id": "ecd2125d",
   "metadata": {},
   "outputs": [],
   "source": [
    "# Variable name should not start with num and not have special character"
   ]
  },
  {
   "cell_type": "code",
   "execution_count": 17,
   "id": "7ba7ea3b",
   "metadata": {},
   "outputs": [],
   "source": [
    "# Dataypes:\n",
    "# 1. String "
   ]
  },
  {
   "cell_type": "code",
   "execution_count": 18,
   "id": "84cf2b7e",
   "metadata": {},
   "outputs": [
    {
     "name": "stdout",
     "output_type": "stream",
     "text": [
      "test\n"
     ]
    }
   ],
   "source": [
    "a = 'test'\n",
    "print(a)"
   ]
  },
  {
   "cell_type": "code",
   "execution_count": 19,
   "id": "b8d11366",
   "metadata": {},
   "outputs": [
    {
     "name": "stdout",
     "output_type": "stream",
     "text": [
      "<class 'str'>\n"
     ]
    }
   ],
   "source": [
    "a='3'\n",
    "print(type(a))\n",
    "# anything within '' is string"
   ]
  },
  {
   "cell_type": "code",
   "execution_count": 22,
   "id": "4ed486d5",
   "metadata": {},
   "outputs": [
    {
     "name": "stdout",
     "output_type": "stream",
     "text": [
      "True\n"
     ]
    }
   ],
   "source": [
    "# isinstace - wll check avariable with the Data type and return true or false\n",
    "a='3'\n",
    "print(isinstance(a,str))\n"
   ]
  },
  {
   "cell_type": "code",
   "execution_count": 35,
   "id": "3005363c",
   "metadata": {},
   "outputs": [
    {
     "name": "stdout",
     "output_type": "stream",
     "text": [
      "4\n"
     ]
    }
   ],
   "source": [
    "# len - Length of variable\n",
    "a = 'test'\n",
    "print(len(a))\n"
   ]
  },
  {
   "cell_type": "code",
   "execution_count": 33,
   "id": "e94eb07a",
   "metadata": {},
   "outputs": [
    {
     "name": "stdout",
     "output_type": "stream",
     "text": [
      "T\n",
      "t\n",
      "['T', 'e', 's', 't']\n"
     ]
    }
   ],
   "source": [
    "\n",
    "print(min(a))\n",
    "print(max(a))\n",
    "print(sorted(a))\n",
    "#sort according to ASCII values (Capital has low ascii values)"
   ]
  },
  {
   "cell_type": "code",
   "execution_count": 32,
   "id": "f816e6f3",
   "metadata": {},
   "outputs": [
    {
     "name": "stdout",
     "output_type": "stream",
     "text": [
      "TEST\n",
      "test\n",
      "tEST\n"
     ]
    }
   ],
   "source": [
    "print(a.upper())\n",
    "print(a.lower())\n",
    "print(a.swapcase())\n",
    "# upper turn all to capital, swapcase- swaps  smallercase to uppercase"
   ]
  },
  {
   "cell_type": "code",
   "execution_count": 37,
   "id": "c04d3fec",
   "metadata": {},
   "outputs": [
    {
     "name": "stdout",
     "output_type": "stream",
     "text": [
      "False\n",
      "True\n"
     ]
    }
   ],
   "source": [
    "print(a.isupper()) #checkes give string is Upper Case\n",
    "print(a.islower()) #checkes give string is Lower Case"
   ]
  },
  {
   "cell_type": "code",
   "execution_count": 39,
   "id": "80815872",
   "metadata": {},
   "outputs": [
    {
     "name": "stdout",
     "output_type": "stream",
     "text": [
      "False\n",
      "True\n",
      "True\n"
     ]
    }
   ],
   "source": [
    "print(a.isdigit()) #checkes give string is digit\n",
    "print(a.isalpha()) #checkes give string is alphabet\n",
    "print(a.isalnum()) #checkes give string is alphanumeric"
   ]
  },
  {
   "cell_type": "code",
   "execution_count": 43,
   "id": "792ea97e",
   "metadata": {},
   "outputs": [],
   "source": [
    "# Forward interval starts with 0\n",
    "# reverse interval starts with -1\n",
    "a = 'Ganesh Kishore'"
   ]
  },
  {
   "cell_type": "code",
   "execution_count": 46,
   "id": "5bef14e4",
   "metadata": {},
   "outputs": [
    {
     "name": "stdout",
     "output_type": "stream",
     "text": [
      "h\n"
     ]
    }
   ],
   "source": [
    "print(a[5])"
   ]
  },
  {
   "cell_type": "code",
   "execution_count": 51,
   "id": "f4f08e55",
   "metadata": {},
   "outputs": [
    {
     "name": "stdout",
     "output_type": "stream",
     "text": [
      "Gns\n"
     ]
    }
   ],
   "source": [
    "# start : end : Interval\n",
    "print (a[0:5:2]) #here last 2 denotes a break of 1"
   ]
  },
  {
   "cell_type": "code",
   "execution_count": 52,
   "id": "9f8ab167",
   "metadata": {},
   "outputs": [
    {
     "name": "stdout",
     "output_type": "stream",
     "text": [
      "erohsiK hsenaG\n"
     ]
    }
   ],
   "source": [
    "# reverse a string (Interview ques)\n",
    "print(a[::-1])"
   ]
  },
  {
   "cell_type": "code",
   "execution_count": 53,
   "id": "f5df8ff5",
   "metadata": {},
   "outputs": [
    {
     "name": "stdout",
     "output_type": "stream",
     "text": [
      "e\n"
     ]
    }
   ],
   "source": [
    "print(a[-1])"
   ]
  },
  {
   "cell_type": "code",
   "execution_count": 54,
   "id": "fff673df",
   "metadata": {},
   "outputs": [
    {
     "name": "stdout",
     "output_type": "stream",
     "text": [
      "Ganesh Kishore\n"
     ]
    }
   ],
   "source": [
    "print(a[:])"
   ]
  },
  {
   "cell_type": "code",
   "execution_count": 57,
   "id": "4c038935",
   "metadata": {},
   "outputs": [
    {
     "name": "stdout",
     "output_type": "stream",
     "text": [
      "sKhe\n"
     ]
    }
   ],
   "source": [
    "print(a[9:2:-2]) #when your interval is with - then the start values should be from the last"
   ]
  },
  {
   "cell_type": "code",
   "execution_count": 58,
   "id": "3395678b",
   "metadata": {},
   "outputs": [
    {
     "name": "stdout",
     "output_type": "stream",
     "text": [
      "1\n"
     ]
    }
   ],
   "source": [
    "print(a.index(\"a\"))  #returns first value"
   ]
  },
  {
   "cell_type": "code",
   "execution_count": 59,
   "id": "047eac81",
   "metadata": {},
   "outputs": [
    {
     "name": "stdout",
     "output_type": "stream",
     "text": [
      "13\n"
     ]
    }
   ],
   "source": [
    "print(a.index(\"e\",5)) #here specfying will leave the first 5 values ie(0 to 5 positions)"
   ]
  },
  {
   "cell_type": "code",
   "execution_count": 60,
   "id": "dcbdc9ba",
   "metadata": {},
   "outputs": [
    {
     "name": "stdout",
     "output_type": "stream",
     "text": [
      "13\n"
     ]
    }
   ],
   "source": [
    "print(a.rindex(\"e\")) #reverse indexing"
   ]
  },
  {
   "cell_type": "code",
   "execution_count": 62,
   "id": "d4da5cb3",
   "metadata": {},
   "outputs": [
    {
     "name": "stdout",
     "output_type": "stream",
     "text": [
      "3\n"
     ]
    }
   ],
   "source": [
    "print(a.find(\"e\")) #finds and revers is same"
   ]
  },
  {
   "cell_type": "code",
   "execution_count": 63,
   "id": "575b43ed",
   "metadata": {},
   "outputs": [
    {
     "name": "stdout",
     "output_type": "stream",
     "text": [
      "13\n"
     ]
    }
   ],
   "source": [
    "print(a.find(\"e\",5))"
   ]
  },
  {
   "cell_type": "code",
   "execution_count": 64,
   "id": "a47023b4",
   "metadata": {},
   "outputs": [
    {
     "name": "stdout",
     "output_type": "stream",
     "text": [
      "1\n"
     ]
    }
   ],
   "source": [
    "print(a.rfind('a'))"
   ]
  },
  {
   "cell_type": "code",
   "execution_count": 65,
   "id": "74164fb7",
   "metadata": {},
   "outputs": [
    {
     "name": "stdout",
     "output_type": "stream",
     "text": [
      "-1\n"
     ]
    }
   ],
   "source": [
    "print(a.find('z')) # This is the diffrence between find and index if a value is not present in string and if we find that value it will show -1"
   ]
  },
  {
   "cell_type": "code",
   "execution_count": 72,
   "id": "b70666c4",
   "metadata": {},
   "outputs": [
    {
     "ename": "ValueError",
     "evalue": "substring not found",
     "output_type": "error",
     "traceback": [
      "\u001b[1;31m---------------------------------------------------------------------------\u001b[0m",
      "\u001b[1;31mValueError\u001b[0m                                Traceback (most recent call last)",
      "\u001b[1;32m~\\AppData\\Local\\Temp\\ipykernel_252\\3879762877.py\u001b[0m in \u001b[0;36m<module>\u001b[1;34m\u001b[0m\n\u001b[1;32m----> 1\u001b[1;33m \u001b[0mprint\u001b[0m\u001b[1;33m(\u001b[0m\u001b[0ma\u001b[0m\u001b[1;33m.\u001b[0m\u001b[0mindex\u001b[0m\u001b[1;33m(\u001b[0m\u001b[1;34m'z'\u001b[0m\u001b[1;33m)\u001b[0m\u001b[1;33m)\u001b[0m \u001b[1;31m# here in index it will show error if we try to find index of value that is not available in the string\u001b[0m\u001b[1;33m\u001b[0m\u001b[1;33m\u001b[0m\u001b[0m\n\u001b[0m",
      "\u001b[1;31mValueError\u001b[0m: substring not found"
     ]
    }
   ],
   "source": [
    " print(a.index('z')) # here in index it will show error if we try to find index of value that is not available in the string "
   ]
  },
  {
   "cell_type": "code",
   "execution_count": 68,
   "id": "d0717983",
   "metadata": {},
   "outputs": [
    {
     "name": "stdout",
     "output_type": "stream",
     "text": [
      "2\n"
     ]
    }
   ],
   "source": [
    "print(a.count(\"e\"))"
   ]
  },
  {
   "cell_type": "code",
   "execution_count": 70,
   "id": "83cb6e51",
   "metadata": {},
   "outputs": [
    {
     "name": "stdout",
     "output_type": "stream",
     "text": [
      "True\n"
     ]
    }
   ],
   "source": [
    "print(a.startswith(\"G\"))"
   ]
  },
  {
   "cell_type": "code",
   "execution_count": 71,
   "id": "6ec3be4b",
   "metadata": {},
   "outputs": [
    {
     "name": "stdout",
     "output_type": "stream",
     "text": [
      "False\n"
     ]
    }
   ],
   "source": [
    "print(a.endswith(\"G\"))"
   ]
  },
  {
   "cell_type": "code",
   "execution_count": 77,
   "id": "6b47a00b",
   "metadata": {},
   "outputs": [
    {
     "name": "stdout",
     "output_type": "stream",
     "text": [
      "<class 'float'>\n"
     ]
    }
   ],
   "source": [
    "a=3.0\n",
    "print(type(a))"
   ]
  },
  {
   "cell_type": "code",
   "execution_count": 78,
   "id": "5b1d032c",
   "metadata": {},
   "outputs": [
    {
     "name": "stdout",
     "output_type": "stream",
     "text": [
      "True\n"
     ]
    }
   ],
   "source": [
    "print(isinstance(a, float))"
   ]
  },
  {
   "cell_type": "code",
   "execution_count": 85,
   "id": "23f3a0dd",
   "metadata": {},
   "outputs": [
    {
     "name": "stdout",
     "output_type": "stream",
     "text": [
      "<class 'int'>\n"
     ]
    }
   ],
   "source": [
    "a=3\n",
    "b= a\n",
    "print(type(b))"
   ]
  },
  {
   "cell_type": "code",
   "execution_count": 87,
   "id": "82d1a8a2",
   "metadata": {},
   "outputs": [
    {
     "name": "stdout",
     "output_type": "stream",
     "text": [
      "0x3\n"
     ]
    }
   ],
   "source": [
    "print(hex(a))"
   ]
  },
  {
   "cell_type": "code",
   "execution_count": 86,
   "id": "0100e6e8",
   "metadata": {},
   "outputs": [
    {
     "name": "stdout",
     "output_type": "stream",
     "text": [
      "0o3\n"
     ]
    }
   ],
   "source": [
    "print(oct(a))"
   ]
  },
  {
   "cell_type": "code",
   "execution_count": null,
   "id": "f3588582",
   "metadata": {},
   "outputs": [],
   "source": []
  },
  {
   "cell_type": "code",
   "execution_count": null,
   "id": "8cda5853",
   "metadata": {},
   "outputs": [],
   "source": []
  }
 ],
 "metadata": {
  "kernelspec": {
   "display_name": "Python 3 (ipykernel)",
   "language": "python",
   "name": "python3"
  },
  "language_info": {
   "codemirror_mode": {
    "name": "ipython",
    "version": 3
   },
   "file_extension": ".py",
   "mimetype": "text/x-python",
   "name": "python",
   "nbconvert_exporter": "python",
   "pygments_lexer": "ipython3",
   "version": "3.9.13"
  }
 },
 "nbformat": 4,
 "nbformat_minor": 5
}
