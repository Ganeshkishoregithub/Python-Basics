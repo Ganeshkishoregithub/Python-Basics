{
 "cells": [
  {
   "cell_type": "code",
   "execution_count": null,
   "id": "633e2606",
   "metadata": {},
   "outputs": [],
   "source": [
    "#Pratice\n",
    "#given n b1<=n<=100\n",
    "n = int(input())\n",
    "if 1<=n<=100:\n",
    "    \n",
    "    if (n%2!=0):\n",
    "        print(\"Weird\")\n",
    "    elif((n%2==0) and (2<n<5)):\n",
    "        print(\"Not Weird\")\n",
    "    elif (n%2==0) and (6<n<21):\n",
    "        print(\"Weird\")\n",
    "    else:\n",
    "        if (n>20):\n",
    "            print(\"Not Weird\")"
   ]
  },
  {
   "cell_type": "code",
   "execution_count": null,
   "id": "1292827f",
   "metadata": {},
   "outputs": [],
   "source": [
    "a = int(input())\n",
    "b=int(input())\n",
    "if (1<=a<=(10^10):\n",
    "    if(1<=b<=(10^10):\n",
    "        print(a+b)\n",
    "        print(a-b)\n",
    "        print(a*b)"
   ]
  },
  {
   "cell_type": "code",
   "execution_count": 15,
   "id": "6a4010e9",
   "metadata": {},
   "outputs": [
    {
     "name": "stdout",
     "output_type": "stream",
     "text": [
      "14\n"
     ]
    }
   ],
   "source": [
    "def strlen(a):\n",
    "    count=0\n",
    "    for i in a:\n",
    "        count+=1\n",
    "    return count\n",
    "print(strlen('w3resource.com'))   \n",
    "    "
   ]
  },
  {
   "cell_type": "code",
   "execution_count": 16,
   "id": "b9c1003b",
   "metadata": {},
   "outputs": [],
   "source": [
    "#class-6"
   ]
  },
  {
   "cell_type": "code",
   "execution_count": 17,
   "id": "d7f86c3f",
   "metadata": {},
   "outputs": [],
   "source": [
    "#OOPS - Inheritance\n",
    "class calc():\n",
    "    def add (self,a,b):\n",
    "        print(a+b)\n",
    "        "
   ]
  },
  {
   "cell_type": "code",
   "execution_count": 18,
   "id": "3c46f024",
   "metadata": {},
   "outputs": [
    {
     "name": "stdout",
     "output_type": "stream",
     "text": [
      "10\n"
     ]
    }
   ],
   "source": [
    "a=calc()\n",
    "a.add(5,5)"
   ]
  },
  {
   "cell_type": "code",
   "execution_count": 28,
   "id": "4006e5f7",
   "metadata": {},
   "outputs": [],
   "source": [
    "class calc1(calc):\n",
    "    \n",
    "    def sub (self,a,b):\n",
    "        print(a-b)\n",
    "#here we are inheriting class-calc to this class so all the feature of calc to calc1"
   ]
  },
  {
   "cell_type": "code",
   "execution_count": 20,
   "id": "d14ef0ff",
   "metadata": {},
   "outputs": [],
   "source": [
    "a=calc1()"
   ]
  },
  {
   "cell_type": "code",
   "execution_count": 21,
   "id": "f94e98e0",
   "metadata": {},
   "outputs": [
    {
     "name": "stdout",
     "output_type": "stream",
     "text": [
      "10\n"
     ]
    }
   ],
   "source": [
    "a.add(5,5)"
   ]
  },
  {
   "cell_type": "code",
   "execution_count": 25,
   "id": "d7f794a0",
   "metadata": {},
   "outputs": [],
   "source": [
    "class calc2(calc1):\n",
    "    def mul(self,a,b):\n",
    "        print(a*b)"
   ]
  },
  {
   "cell_type": "code",
   "execution_count": 27,
   "id": "c1d29e94",
   "metadata": {},
   "outputs": [
    {
     "name": "stdout",
     "output_type": "stream",
     "text": [
      "11\n",
      "1\n",
      "30\n"
     ]
    }
   ],
   "source": [
    "a=calc2()\n",
    "a.add(6,5)\n",
    "a.sub(6,5)\n",
    "a.mul(6,5)"
   ]
  },
  {
   "cell_type": "code",
   "execution_count": 37,
   "id": "d6d8e2d4",
   "metadata": {},
   "outputs": [],
   "source": [
    "class calc3(calc1,calc2):\n",
    "    def div(self,a,b):\n",
    "        print(a/b)\n",
    "# Multiple inheritance"
   ]
  },
  {
   "cell_type": "code",
   "execution_count": 33,
   "id": "9f0d0df6",
   "metadata": {},
   "outputs": [],
   "source": [
    "a=calc3()"
   ]
  },
  {
   "cell_type": "code",
   "execution_count": 36,
   "id": "af73c0c0",
   "metadata": {},
   "outputs": [
    {
     "name": "stdout",
     "output_type": "stream",
     "text": [
      "6.0\n",
      "1\n"
     ]
    }
   ],
   "source": [
    "a.div(30,5)\n",
    "a.sub(6,5)"
   ]
  },
  {
   "cell_type": "code",
   "execution_count": 38,
   "id": "2e9d11a2",
   "metadata": {},
   "outputs": [],
   "source": [
    "#Abstraction\n",
    "from abc import ABC, abstractmethod"
   ]
  },
  {
   "cell_type": "code",
   "execution_count": 40,
   "id": "4ea8784c",
   "metadata": {},
   "outputs": [],
   "source": [
    "class cook(ABC):\n",
    "    @abstractmethod\n",
    "    def onion(self):\n",
    "        pass\n",
    "    @abstractmethod\n",
    "    def tomato(self):\n",
    "        pass\n",
    "        "
   ]
  },
  {
   "cell_type": "code",
   "execution_count": 45,
   "id": "3c5b76c8",
   "metadata": {},
   "outputs": [],
   "source": [
    "class lunch(cook):\n",
    "    def onion(self):\n",
    "        print(\"onion is taken\")\n",
    "    def tomato(self):\n",
    "        print(\"Tom is taken\")\n",
    "    def rice(self):\n",
    "        print(\"Rice is Taken\")\n",
    "    "
   ]
  },
  {
   "cell_type": "code",
   "execution_count": 46,
   "id": "0b539c0b",
   "metadata": {},
   "outputs": [
    {
     "name": "stdout",
     "output_type": "stream",
     "text": [
      "onion is taken\n"
     ]
    }
   ],
   "source": [
    "a=lunch()\n",
    "a.onion()"
   ]
  },
  {
   "cell_type": "code",
   "execution_count": 4,
   "id": "d7c032db",
   "metadata": {},
   "outputs": [],
   "source": [
    "from abc import ABC, abstractmethod"
   ]
  },
  {
   "cell_type": "code",
   "execution_count": 5,
   "id": "ff427b58",
   "metadata": {},
   "outputs": [],
   "source": [
    "class calc(ABC):\n",
    "    @abstractmethod\n",
    "    def add(self):\n",
    "        pass\n",
    "    @abstractmethod\n",
    "    def sub(self):\n",
    "        pass\n",
    "    @abstractmethod\n",
    "    def mul(self):\n",
    "        pass\n",
    "    @abstractmethod\n",
    "    def div(self):\n",
    "        pass"
   ]
  },
  {
   "cell_type": "code",
   "execution_count": 6,
   "id": "9ece8637",
   "metadata": {},
   "outputs": [],
   "source": [
    "class ope(calc):\n",
    "    def add(self,a,b):\n",
    "        print(a+b)\n",
    "    def sub(self,a,b):\n",
    "        print(a-b)\n",
    "    def mul(self,a,b):\n",
    "        print(a*b)\n",
    "    def div(self,a,b):\n",
    "        print(a/b)\n",
    "    "
   ]
  },
  {
   "cell_type": "code",
   "execution_count": 9,
   "id": "236bef56",
   "metadata": {},
   "outputs": [
    {
     "name": "stdout",
     "output_type": "stream",
     "text": [
      "8\n"
     ]
    }
   ],
   "source": [
    "a=ope()\n",
    "a.add(5,3)"
   ]
  },
  {
   "cell_type": "code",
   "execution_count": 11,
   "id": "e59b757b",
   "metadata": {},
   "outputs": [],
   "source": [
    "class ope(calc):\n",
    "    def __init__(self,a,b):\n",
    "        self.a=a\n",
    "        self.b=b\n",
    "    def add(self):\n",
    "        print(self.a+self.b)\n",
    "    def sub(self):\n",
    "        print(self.a-self.b)\n",
    "    def mul(self):\n",
    "        print(self.a*self.b)\n",
    "    def div(self):\n",
    "        print(self.a/self.b)"
   ]
  },
  {
   "cell_type": "code",
   "execution_count": 12,
   "id": "89cd4fad",
   "metadata": {},
   "outputs": [
    {
     "ename": "TypeError",
     "evalue": "__init__() missing 2 required positional arguments: 'a' and 'b'",
     "output_type": "error",
     "traceback": [
      "\u001b[1;31m---------------------------------------------------------------------------\u001b[0m",
      "\u001b[1;31mTypeError\u001b[0m                                 Traceback (most recent call last)",
      "\u001b[1;32m~\\AppData\\Local\\Temp\\ipykernel_18808\\2349607139.py\u001b[0m in \u001b[0;36m<module>\u001b[1;34m\u001b[0m\n\u001b[1;32m----> 1\u001b[1;33m \u001b[0ma\u001b[0m\u001b[1;33m=\u001b[0m\u001b[0mope\u001b[0m\u001b[1;33m(\u001b[0m\u001b[1;33m)\u001b[0m\u001b[1;33m\u001b[0m\u001b[1;33m\u001b[0m\u001b[0m\n\u001b[0m",
      "\u001b[1;31mTypeError\u001b[0m: __init__() missing 2 required positional arguments: 'a' and 'b'"
     ]
    }
   ],
   "source": [
    "a=ope()"
   ]
  },
  {
   "cell_type": "code",
   "execution_count": 74,
   "id": "7e91f8fe",
   "metadata": {},
   "outputs": [],
   "source": [
    "class test():\n",
    "    def add(self,a,b):\n",
    "        print(\"Hi\")"
   ]
  },
  {
   "cell_type": "code",
   "execution_count": 78,
   "id": "15c6f50a",
   "metadata": {},
   "outputs": [],
   "source": [
    "class test1(test):\n",
    "    def add (self,a,b):\n",
    "        print(\"Hello\")\n",
    "#Method Overloading"
   ]
  },
  {
   "cell_type": "code",
   "execution_count": 76,
   "id": "277fcc5e",
   "metadata": {},
   "outputs": [],
   "source": [
    "a=test1()"
   ]
  },
  {
   "cell_type": "code",
   "execution_count": 77,
   "id": "cb73e388",
   "metadata": {},
   "outputs": [
    {
     "name": "stdout",
     "output_type": "stream",
     "text": [
      "Hello\n"
     ]
    }
   ],
   "source": [
    "a.add(5,6)"
   ]
  },
  {
   "cell_type": "code",
   "execution_count": null,
   "id": "2b0e466f",
   "metadata": {},
   "outputs": [],
   "source": []
  }
 ],
 "metadata": {
  "kernelspec": {
   "display_name": "Python 3 (ipykernel)",
   "language": "python",
   "name": "python3"
  },
  "language_info": {
   "codemirror_mode": {
    "name": "ipython",
    "version": 3
   },
   "file_extension": ".py",
   "mimetype": "text/x-python",
   "name": "python",
   "nbconvert_exporter": "python",
   "pygments_lexer": "ipython3",
   "version": "3.9.13"
  }
 },
 "nbformat": 4,
 "nbformat_minor": 5
}
