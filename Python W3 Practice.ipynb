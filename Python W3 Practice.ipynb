{
 "cells": [
  {
   "cell_type": "code",
   "execution_count": 1,
   "id": "3bb1ae1c",
   "metadata": {},
   "outputs": [
    {
     "name": "stdout",
     "output_type": "stream",
     "text": [
      "13\n"
     ]
    }
   ],
   "source": [
    "a='w3schools.com'\n",
    "print(len(a))"
   ]
  },
  {
   "cell_type": "code",
   "execution_count": 7,
   "id": "584da7b5",
   "metadata": {},
   "outputs": [],
   "source": [
    "def strlen(a):\n",
    "    print(len(a))"
   ]
  },
  {
   "cell_type": "code",
   "execution_count": 8,
   "id": "944c005c",
   "metadata": {},
   "outputs": [
    {
     "name": "stdout",
     "output_type": "stream",
     "text": [
      "4\n"
     ]
    }
   ],
   "source": [
    "strlen('good')"
   ]
  },
  {
   "cell_type": "code",
   "execution_count": 49,
   "id": "052895cc",
   "metadata": {},
   "outputs": [
    {
     "name": "stdout",
     "output_type": "stream",
     "text": [
      "{'g': 2, 'o': 3, 'l': 1, 'e': 1, '.': 1, 'c': 1, 'm': 1}\n"
     ]
    }
   ],
   "source": [
    "def char_frequency(str1):\n",
    "    dict = {}\n",
    "    for n in str1:\n",
    "        keys = dict.keys()\n",
    "        if n in keys:\n",
    "            dict[n] += 1\n",
    "        else:\n",
    "            dict[n] = 1\n",
    "    return dict\n",
    "print(char_frequency('google.com'))"
   ]
  },
  {
   "cell_type": "code",
   "execution_count": 14,
   "id": "44afcee9",
   "metadata": {},
   "outputs": [],
   "source": [
    "def sum(num):\n",
    "    sum_num=0\n",
    "    for i in num:\n",
    "        sum_num=sum_num+i\n",
    "    print(sum_num)"
   ]
  },
  {
   "cell_type": "code",
   "execution_count": 15,
   "id": "dda2a1b2",
   "metadata": {},
   "outputs": [
    {
     "name": "stdout",
     "output_type": "stream",
     "text": [
      "20\n"
     ]
    }
   ],
   "source": [
    "sum([9,6,5])"
   ]
  },
  {
   "cell_type": "code",
   "execution_count": 18,
   "id": "db7f0d54",
   "metadata": {},
   "outputs": [],
   "source": [
    "def mult(num):\n",
    "    mul_num=1\n",
    "    for i in num:\n",
    "        mul_num*=i\n",
    "    print(mul_num)"
   ]
  },
  {
   "cell_type": "code",
   "execution_count": 20,
   "id": "35cccd0d",
   "metadata": {},
   "outputs": [
    {
     "name": "stdout",
     "output_type": "stream",
     "text": [
      "24\n"
     ]
    }
   ],
   "source": [
    "mult([2,3,4])"
   ]
  },
  {
   "cell_type": "code",
   "execution_count": 28,
   "id": "345b193e",
   "metadata": {},
   "outputs": [],
   "source": [
    "def large(num):\n",
    "    max=num[0]\n",
    "    for i in num:\n",
    "        if i>max:\n",
    "            max=i\n",
    "    print(max)"
   ]
  },
  {
   "cell_type": "code",
   "execution_count": 29,
   "id": "4a528e92",
   "metadata": {},
   "outputs": [
    {
     "name": "stdout",
     "output_type": "stream",
     "text": [
      "15\n"
     ]
    }
   ],
   "source": [
    "large([5,10,15])"
   ]
  },
  {
   "cell_type": "code",
   "execution_count": 32,
   "id": "1f9bd957",
   "metadata": {},
   "outputs": [],
   "source": [
    "def small(num):\n",
    "    min=num[0]\n",
    "    for i in num:\n",
    "        if i < min:\n",
    "            min=i\n",
    "    print(min)"
   ]
  },
  {
   "cell_type": "code",
   "execution_count": 35,
   "id": "4b6f96e6",
   "metadata": {},
   "outputs": [
    {
     "name": "stdout",
     "output_type": "stream",
     "text": [
      "10\n"
     ]
    }
   ],
   "source": [
    "small([10,500,200])"
   ]
  },
  {
   "cell_type": "code",
   "execution_count": 50,
   "id": "98c44ffe",
   "metadata": {},
   "outputs": [],
   "source": [
    "def char_frq(str1):\n",
    "    dict = {}\n",
    "    for i in str1:\n",
    "        keys = dict.keys()\n",
    "        if i in keys:\n",
    "            dict[i]+=1\n",
    "        else:\n",
    "            dict[i]=1\n",
    "    return(dict)"
   ]
  },
  {
   "cell_type": "code",
   "execution_count": 51,
   "id": "837b6197",
   "metadata": {},
   "outputs": [
    {
     "data": {
      "text/plain": [
       "{'g': 2, 'o': 2, 'l': 1, 'e': 1}"
      ]
     },
     "execution_count": 51,
     "metadata": {},
     "output_type": "execute_result"
    }
   ],
   "source": [
    "char_frq('google')"
   ]
  },
  {
   "cell_type": "code",
   "execution_count": 54,
   "id": "73a02398",
   "metadata": {},
   "outputs": [],
   "source": [
    "def a(words):\n",
    "    i=0\n",
    "    for words in words:\n",
    "        if(len(words)>1 and words[0]==words[-1]):\n",
    "            i+=1\n",
    "    \n",
    "    print(i)\n",
    "            "
   ]
  },
  {
   "cell_type": "code",
   "execution_count": 56,
   "id": "5e4f7c15",
   "metadata": {},
   "outputs": [
    {
     "name": "stdout",
     "output_type": "stream",
     "text": [
      "2\n"
     ]
    }
   ],
   "source": [
    "a(['abc','aba','bab'])"
   ]
  },
  {
   "cell_type": "code",
   "execution_count": 78,
   "id": "fb5ebdf1",
   "metadata": {},
   "outputs": [],
   "source": [
    "def lists(a):\n",
    "    if (len(a)>1):\n",
    "        print(a[0:2]+a[-2:])\n",
    "    else:\n",
    "        print('')\n",
    "            \n",
    "    "
   ]
  },
  {
   "cell_type": "code",
   "execution_count": 80,
   "id": "1d1fff54",
   "metadata": {},
   "outputs": [
    {
     "name": "stdout",
     "output_type": "stream",
     "text": [
      "\n"
     ]
    }
   ],
   "source": [
    "lists('w')"
   ]
  },
  {
   "cell_type": "code",
   "execution_count": null,
   "id": "28684f6b",
   "metadata": {},
   "outputs": [],
   "source": [
    "Write a Python program to get a list, sorted in increasing order by the last element in each tuple from a given list of non-empty tuples.\n",
    "\n",
    "Sample List : [(2, 5), (1, 2), (4, 4), (2, 3), (2, 1)]\n",
    "Expected Result : [(2, 1), (1, 2), (2, 3), (4, 4), (2, 5)]"
   ]
  },
  {
   "cell_type": "code",
   "execution_count": 111,
   "id": "99a577f3",
   "metadata": {},
   "outputs": [
    {
     "name": "stdout",
     "output_type": "stream",
     "text": [
      "xyc abz\n"
     ]
    }
   ],
   "source": [
    "def chars_mix_up(a, b):  \n",
    "  new_a = b[:2] + a[2:]  \n",
    "  new_b = a[:2] + b[2:]  \n",
    "  \n",
    "  return new_a + ' ' + new_b  \n",
    "print(chars_mix_up('abc', 'xyz'))"
   ]
  },
  {
   "cell_type": "code",
   "execution_count": 116,
   "id": "712610e5",
   "metadata": {},
   "outputs": [
    {
     "name": "stdout",
     "output_type": "stream",
     "text": [
      "a\n"
     ]
    }
   ],
   "source": [
    "a='abc'\n",
    "print(a[0:])"
   ]
  },
  {
   "cell_type": "code",
   "execution_count": 168,
   "id": "83377613",
   "metadata": {},
   "outputs": [],
   "source": [
    "def chars(a):\n",
    "    if a[-3:]=='ing':\n",
    "         a+='ly'\n",
    "    else:\n",
    "        a+='ing'\n",
    "    print(a)\n",
    "    \n",
    "    "
   ]
  },
  {
   "cell_type": "code",
   "execution_count": 169,
   "id": "ddfb0335",
   "metadata": {},
   "outputs": [
    {
     "name": "stdout",
     "output_type": "stream",
     "text": [
      "gooding\n",
      "goingly\n"
     ]
    }
   ],
   "source": [
    "chars('good')\n",
    "chars('going')"
   ]
  },
  {
   "cell_type": "code",
   "execution_count": 44,
   "id": "c2b641ff",
   "metadata": {},
   "outputs": [],
   "source": [
    "def chars(a):\n",
    "    leng=[]\n",
    "    for i in a:\n",
    "        if(leng==0):\n",
    "            leng=leng.append(i)\n",
    "        print(leng)\n",
    "    "
   ]
  },
  {
   "cell_type": "markdown",
   "id": "cffe82b2",
   "metadata": {},
   "source": [
    "chars(['good','bad']) "
   ]
  },
  {
   "cell_type": "code",
   "execution_count": 48,
   "id": "bf7436c4",
   "metadata": {},
   "outputs": [],
   "source": [
    "def chars(a):\n",
    "    leng=[]\n",
    "    for i in a:\n",
    "        leng.append((len(i), i))\n",
    "        leng.sort()\n",
    "        return(leng[-1][1])"
   ]
  },
  {
   "cell_type": "code",
   "execution_count": 49,
   "id": "1d4cc53f",
   "metadata": {},
   "outputs": [
    {
     "data": {
      "text/plain": [
       "'good'"
      ]
     },
     "execution_count": 49,
     "metadata": {},
     "output_type": "execute_result"
    }
   ],
   "source": [
    "chars(['good','bad'])"
   ]
  },
  {
   "cell_type": "code",
   "execution_count": 55,
   "id": "715a59f5",
   "metadata": {},
   "outputs": [
    {
     "name": "stdout",
     "output_type": "stream",
     "text": [
      "{'name': 'Ganesh', 'age': '20'}\n"
     ]
    }
   ],
   "source": [
    "a={\"name\":\"Ganesh\"}\n",
    "a[\"age\"]=\"20\"\n",
    "print(a)"
   ]
  },
  {
   "cell_type": "code",
   "execution_count": 51,
   "id": "f1b85a8a",
   "metadata": {},
   "outputs": [],
   "source": []
  },
  {
   "cell_type": "code",
   "execution_count": 52,
   "id": "2982b397",
   "metadata": {},
   "outputs": [
    {
     "name": "stdout",
     "output_type": "stream",
     "text": [
      "{'name': 'Ganesh'}\n"
     ]
    }
   ],
   "source": [
    "print(a)"
   ]
  },
  {
   "cell_type": "code",
   "execution_count": 66,
   "id": "a95308bc",
   "metadata": {},
   "outputs": [],
   "source": [
    "a={\"name\": \"Ganesh\", \"age\":\"21\"}\n",
    "def keys(b):\n",
    "    if (b in a):\n",
    "        print(\"Keys exists\")\n",
    "    else:\n",
    "        print(\"Key dont exist\")"
   ]
  },
  {
   "cell_type": "code",
   "execution_count": 68,
   "id": "cb7eabae",
   "metadata": {},
   "outputs": [
    {
     "name": "stdout",
     "output_type": "stream",
     "text": [
      "Key dont exist\n"
     ]
    }
   ],
   "source": [
    "keys('ne')"
   ]
  },
  {
   "cell_type": "code",
   "execution_count": 69,
   "id": "f6dbe745",
   "metadata": {},
   "outputs": [
    {
     "name": "stdout",
     "output_type": "stream",
     "text": [
      "[1, 2, 3]\n"
     ]
    }
   ],
   "source": [
    "a=[1,1,1,2,2,3,3,3]\n",
    "print(list(set(a)))"
   ]
  },
  {
   "cell_type": "code",
   "execution_count": 70,
   "id": "7e6d28b6",
   "metadata": {},
   "outputs": [],
   "source": [
    "def lists(a):\n",
    "    if (len(a)>1):\n",
    "        print(\"list is not empty\")\n",
    "    else:\n",
    "        print(\"list is empty\")"
   ]
  },
  {
   "cell_type": "code",
   "execution_count": 75,
   "id": "a3beb6cf",
   "metadata": {},
   "outputs": [
    {
     "name": "stdout",
     "output_type": "stream",
     "text": [
      "list is empty\n"
     ]
    }
   ],
   "source": [
    "lists([])"
   ]
  },
  {
   "cell_type": "code",
   "execution_count": 83,
   "id": "916f6046",
   "metadata": {},
   "outputs": [
    {
     "name": "stdout",
     "output_type": "stream",
     "text": [
      "[1, 2, 3]\n"
     ]
    }
   ],
   "source": [
    "a=[1,2,3]\n",
    "b=a.copy()\n",
    "print(b)"
   ]
  },
  {
   "cell_type": "code",
   "execution_count": 84,
   "id": "44aeb9ff",
   "metadata": {},
   "outputs": [
    {
     "name": "stdout",
     "output_type": "stream",
     "text": [
      "ython\n",
      "Pyton\n",
      "Pytho\n"
     ]
    }
   ],
   "source": [
    "def remove_char(str, n):  \n",
    "      first_part = str[:n]   \n",
    "      last_pasrt = str[n+1:]  \n",
    "      return first_part + last_pasrt  \n",
    "print(remove_char('Python', 0))  \n",
    "print(remove_char('Python', 3))  \n",
    "print(remove_char('Python', 5)) "
   ]
  },
  {
   "cell_type": "code",
   "execution_count": 92,
   "id": "b5d2e35f",
   "metadata": {},
   "outputs": [],
   "source": [
    "def chars(a,n):\n",
    "    a1=a[:n]\n",
    "    a2=a[n+1:]\n",
    "    return(a1+a2)\n"
   ]
  },
  {
   "cell_type": "code",
   "execution_count": 94,
   "id": "f47bbdb8",
   "metadata": {},
   "outputs": [
    {
     "data": {
      "text/plain": [
       "'Gansh'"
      ]
     },
     "execution_count": 94,
     "metadata": {},
     "output_type": "execute_result"
    }
   ],
   "source": [
    "chars(\"Ganesh\",3)"
   ]
  },
  {
   "cell_type": "code",
   "execution_count": 95,
   "id": "a8a91b51",
   "metadata": {},
   "outputs": [
    {
     "name": "stdout",
     "output_type": "stream",
     "text": [
      "ace\n",
      "pto\n"
     ]
    }
   ],
   "source": [
    "def odd_values_string(str):  \n",
    "  result = \"\"   \n",
    "  for i in range(len(str)):  \n",
    "    if i % 2 == 0:  \n",
    "      result = result + str[i]  \n",
    "  return result  \n",
    "  \n",
    "print(odd_values_string('abcdef'))  \n",
    "print(odd_values_string('python'))"
   ]
  },
  {
   "cell_type": "code",
   "execution_count": 132,
   "id": "4b0453b3",
   "metadata": {},
   "outputs": [],
   "source": [
    "def lists(n,a):\n",
    "    b=[]\n",
    "    txt = a.split(\" \")\n",
    "    print(txt)\n",
    "    for i in txt:\n",
    "        if len(i)>n:\n",
    "            b.append(i)\n",
    "    return(b)\n",
    "            \n",
    "        \n",
    "    "
   ]
  },
  {
   "cell_type": "code",
   "execution_count": 133,
   "id": "0b519ded",
   "metadata": {},
   "outputs": [
    {
     "name": "stdout",
     "output_type": "stream",
     "text": [
      "['The', 'quick', 'brown', 'fox', 'jumps', 'over', 'the', 'lazy', 'dog']\n"
     ]
    },
    {
     "data": {
      "text/plain": [
       "['quick', 'brown', 'jumps', 'over', 'lazy']"
      ]
     },
     "execution_count": 133,
     "metadata": {},
     "output_type": "execute_result"
    }
   ],
   "source": [
    "lists(3, \"The quick brown fox jumps over the lazy dog\")\n"
   ]
  },
  {
   "cell_type": "code",
   "execution_count": 170,
   "id": "1ff9b6ca",
   "metadata": {},
   "outputs": [],
   "source": [
    "def lists(a):\n",
    "    b={}\n",
    "    txt= a.split(\" \")\n",
    "    for i in txt:\n",
    "        if i  in b:\n",
    "            b[i]+=1\n",
    "        elif (i not in b):\n",
    "            b[i]=1\n",
    "    print(b)"
   ]
  },
  {
   "cell_type": "code",
   "execution_count": 171,
   "id": "6471ca3b",
   "metadata": {},
   "outputs": [
    {
     "name": "stdout",
     "output_type": "stream",
     "text": [
      "{'The': 2, 'god': 2, '': 1, 'is': 1}\n"
     ]
    }
   ],
   "source": [
    "lists(\"The god  The is god\")"
   ]
  },
  {
   "cell_type": "code",
   "execution_count": 156,
   "id": "d13f3ba2",
   "metadata": {},
   "outputs": [
    {
     "name": "stdout",
     "output_type": "stream",
     "text": [
      "{}\n"
     ]
    }
   ],
   "source": [
    "count = dict()\n",
    "print(count)"
   ]
  },
  {
   "cell_type": "code",
   "execution_count": 8,
   "id": "dff96b4e",
   "metadata": {},
   "outputs": [],
   "source": [
    "def comp(a,b):\n",
    "    \n",
    "    for i in a:\n",
    "        for y in b:\n",
    "            if i==y:\n",
    "                result=True\n",
    "                return result\n",
    "    result=\"false\"\n",
    "    print(result)\n",
    "         \n",
    "            \n",
    "        "
   ]
  },
  {
   "cell_type": "code",
   "execution_count": 10,
   "id": "64c90f5f",
   "metadata": {},
   "outputs": [
    {
     "name": "stdout",
     "output_type": "stream",
     "text": [
      "false\n"
     ]
    }
   ],
   "source": [
    "comp([1,2,3,4],[5])"
   ]
  },
  {
   "cell_type": "code",
   "execution_count": 12,
   "id": "8b56434a",
   "metadata": {},
   "outputs": [],
   "source": [
    "def maxi(a,b,c):\n",
    "    print(max(a,b,c))"
   ]
  },
  {
   "cell_type": "code",
   "execution_count": 13,
   "id": "7ef57324",
   "metadata": {},
   "outputs": [
    {
     "name": "stdout",
     "output_type": "stream",
     "text": [
      "13\n"
     ]
    }
   ],
   "source": [
    "maxi(10,12,13)"
   ]
  },
  {
   "cell_type": "code",
   "execution_count": 15,
   "id": "fd5c9217",
   "metadata": {},
   "outputs": [],
   "source": [
    "def sumi(a):\n",
    "    x=0\n",
    "    for i in a:\n",
    "        x+=i\n",
    "    print(x)\n",
    "        "
   ]
  },
  {
   "cell_type": "code",
   "execution_count": 17,
   "id": "31702320",
   "metadata": {},
   "outputs": [
    {
     "name": "stdout",
     "output_type": "stream",
     "text": [
      "338\n"
     ]
    }
   ],
   "source": [
    "sumi([1,2,3,10,100,200,22])"
   ]
  },
  {
   "cell_type": "code",
   "execution_count": 18,
   "id": "c2686664",
   "metadata": {},
   "outputs": [],
   "source": [
    "def rev(a):\n",
    "    print(a[::-1])"
   ]
  },
  {
   "cell_type": "code",
   "execution_count": 19,
   "id": "90829aa1",
   "metadata": {},
   "outputs": [
    {
     "name": "stdout",
     "output_type": "stream",
     "text": [
      "hsenaG\n"
     ]
    }
   ],
   "source": [
    "rev('Ganesh')"
   ]
  },
  {
   "cell_type": "code",
   "execution_count": 1,
   "id": "4524c5bb",
   "metadata": {},
   "outputs": [],
   "source": [
    "def factorial(n):\n",
    "    return n*factorial(n-1)\n",
    "    print(result)"
   ]
  },
  {
   "cell_type": "code",
   "execution_count": 1,
   "id": "4880d059",
   "metadata": {},
   "outputs": [
    {
     "ename": "NameError",
     "evalue": "name 'factorial' is not defined",
     "output_type": "error",
     "traceback": [
      "\u001b[1;31m---------------------------------------------------------------------------\u001b[0m",
      "\u001b[1;31mNameError\u001b[0m                                 Traceback (most recent call last)",
      "\u001b[1;32m~\\AppData\\Local\\Temp\\ipykernel_5176\\2872749283.py\u001b[0m in \u001b[0;36m<module>\u001b[1;34m\u001b[0m\n\u001b[1;32m----> 1\u001b[1;33m \u001b[0mfactorial\u001b[0m\u001b[1;33m(\u001b[0m\u001b[1;36m6\u001b[0m\u001b[1;33m)\u001b[0m\u001b[1;33m\u001b[0m\u001b[1;33m\u001b[0m\u001b[0m\n\u001b[0m",
      "\u001b[1;31mNameError\u001b[0m: name 'factorial' is not defined"
     ]
    }
   ],
   "source": [
    "factorial(6)"
   ]
  },
  {
   "cell_type": "code",
   "execution_count": 3,
   "id": "94aed2b3",
   "metadata": {},
   "outputs": [],
   "source": [
    "def factorial(n):\n",
    "    result= n*factorial(n-1)\n",
    "    print(result(n))"
   ]
  },
  {
   "cell_type": "code",
   "execution_count": null,
   "id": "d293d35c",
   "metadata": {},
   "outputs": [],
   "source": [
    "factorial(6)"
   ]
  },
  {
   "cell_type": "code",
   "execution_count": 4,
   "id": "eaa2598c",
   "metadata": {},
   "outputs": [],
   "source": [
    "def prime(a):\n",
    "    for i in (2,int(a/2+1)):\n",
    "        if(a%i==0):\n",
    "            print(\"Not Prime\")\n",
    "        else:\n",
    "            print(\"prime\")"
   ]
  },
  {
   "cell_type": "code",
   "execution_count": 2,
   "id": "b7053256",
   "metadata": {},
   "outputs": [
    {
     "name": "stdout",
     "output_type": "stream",
     "text": [
      "prime\n",
      "prime\n"
     ]
    }
   ],
   "source": [
    "prime(3)"
   ]
  },
  {
   "cell_type": "code",
   "execution_count": 5,
   "id": "30717bbd",
   "metadata": {},
   "outputs": [],
   "source": [
    "def lists(a):\n",
    "    d=[]\n",
    "    for i in a:\n",
    "        if i%2==0:\n",
    "            d.append(i)\n",
    "    print(d)"
   ]
  },
  {
   "cell_type": "code",
   "execution_count": 10,
   "id": "01a69e3d",
   "metadata": {},
   "outputs": [
    {
     "name": "stdout",
     "output_type": "stream",
     "text": [
      "[2]\n"
     ]
    }
   ],
   "source": [
    "lists([1,2,3])"
   ]
  },
  {
   "cell_type": "code",
   "execution_count": 14,
   "id": "6d0223e7",
   "metadata": {},
   "outputs": [],
   "source": [
    "def palin(a):\n",
    "    b=a[::-1]\n",
    "    if(a==b):\n",
    "        print(\"Palindrome\")\n",
    "    else:\n",
    "        print(\"Not Palindrome\")"
   ]
  },
  {
   "cell_type": "code",
   "execution_count": 15,
   "id": "43105d35",
   "metadata": {},
   "outputs": [
    {
     "name": "stdout",
     "output_type": "stream",
     "text": [
      "Palindrome\n"
     ]
    }
   ],
   "source": [
    "palin('madam')"
   ]
  },
  {
   "cell_type": "code",
   "execution_count": 47,
   "id": "95bc9af5",
   "metadata": {},
   "outputs": [],
   "source": [
    "import string\n",
    "albhpabet=set(string.ascii_lowercase)\n",
    "\n",
    "def panagram(a):\n",
    "    b=set(a.lower())\n",
    "    print(b)\n",
    "    if( in a == b):\n",
    "        print(\"true\")\n",
    "    else:\n",
    "        print(\"False\")\n",
    "    "
   ]
  },
  {
   "cell_type": "code",
   "execution_count": 48,
   "id": "c2f89e1b",
   "metadata": {},
   "outputs": [
    {
     "name": "stdout",
     "output_type": "stream",
     "text": [
      "{'q', 'g', 'p', 'i', 'y', 'b', 'n', 'd', 'z', 'm', 'f', 'v', 'u', 'x', 'l', 'h', 't', 'e', 'k', 'j', ' ', 'w', 's', 'c', 'r', 'a', 'o'}\n"
     ]
    },
    {
     "ename": "NameError",
     "evalue": "name 'char' is not defined",
     "output_type": "error",
     "traceback": [
      "\u001b[1;31m---------------------------------------------------------------------------\u001b[0m",
      "\u001b[1;31mNameError\u001b[0m                                 Traceback (most recent call last)",
      "\u001b[1;32m~\\AppData\\Local\\Temp\\ipykernel_10788\\907433522.py\u001b[0m in \u001b[0;36m<module>\u001b[1;34m\u001b[0m\n\u001b[1;32m----> 1\u001b[1;33m \u001b[0mpanagram\u001b[0m\u001b[1;33m(\u001b[0m\u001b[1;34m\"The quick brown fox jumps over the lazy dog\"\u001b[0m\u001b[1;33m)\u001b[0m\u001b[1;33m\u001b[0m\u001b[1;33m\u001b[0m\u001b[0m\n\u001b[0m",
      "\u001b[1;32m~\\AppData\\Local\\Temp\\ipykernel_10788\\2805601259.py\u001b[0m in \u001b[0;36mpanagram\u001b[1;34m(a)\u001b[0m\n\u001b[0;32m      5\u001b[0m     \u001b[0mb\u001b[0m\u001b[1;33m=\u001b[0m\u001b[0mset\u001b[0m\u001b[1;33m(\u001b[0m\u001b[0ma\u001b[0m\u001b[1;33m.\u001b[0m\u001b[0mlower\u001b[0m\u001b[1;33m(\u001b[0m\u001b[1;33m)\u001b[0m\u001b[1;33m)\u001b[0m\u001b[1;33m\u001b[0m\u001b[1;33m\u001b[0m\u001b[0m\n\u001b[0;32m      6\u001b[0m     \u001b[0mprint\u001b[0m\u001b[1;33m(\u001b[0m\u001b[0mb\u001b[0m\u001b[1;33m)\u001b[0m\u001b[1;33m\u001b[0m\u001b[1;33m\u001b[0m\u001b[0m\n\u001b[1;32m----> 7\u001b[1;33m     \u001b[1;32mif\u001b[0m\u001b[1;33m(\u001b[0m\u001b[0mchar\u001b[0m \u001b[1;32min\u001b[0m \u001b[0ma\u001b[0m \u001b[1;33m==\u001b[0m \u001b[0mb\u001b[0m\u001b[1;33m)\u001b[0m\u001b[1;33m:\u001b[0m\u001b[1;33m\u001b[0m\u001b[1;33m\u001b[0m\u001b[0m\n\u001b[0m\u001b[0;32m      8\u001b[0m         \u001b[0mprint\u001b[0m\u001b[1;33m(\u001b[0m\u001b[1;34m\"true\"\u001b[0m\u001b[1;33m)\u001b[0m\u001b[1;33m\u001b[0m\u001b[1;33m\u001b[0m\u001b[0m\n\u001b[0;32m      9\u001b[0m     \u001b[1;32melse\u001b[0m\u001b[1;33m:\u001b[0m\u001b[1;33m\u001b[0m\u001b[1;33m\u001b[0m\u001b[0m\n",
      "\u001b[1;31mNameError\u001b[0m: name 'char' is not defined"
     ]
    }
   ],
   "source": [
    "panagram(\"The quick brown fox jumps over the lazy dog\")"
   ]
  },
  {
   "cell_type": "code",
   "execution_count": 74,
   "id": "1146f1e8",
   "metadata": {},
   "outputs": [],
   "source": [
    "def chars(a):\n",
    "    b=a.split('-')\n",
    "    print(b)\n",
    "    b.sort()\n",
    "    print('-'.join (b))"
   ]
  },
  {
   "cell_type": "code",
   "execution_count": 75,
   "id": "c6b631ba",
   "metadata": {},
   "outputs": [
    {
     "name": "stdout",
     "output_type": "stream",
     "text": [
      "['red', 'green', 'yellow']\n",
      "green-red-yellow\n"
     ]
    }
   ],
   "source": [
    "chars(\"red-green-yellow\")"
   ]
  },
  {
   "cell_type": "code",
   "execution_count": 89,
   "id": "4e6e7975",
   "metadata": {},
   "outputs": [],
   "source": [
    "def squ():\n",
    "    b=[]\n",
    "    for a in range(1,31):\n",
    "            b.append(a**2)\n",
    "    print(b)\n",
    "        \n",
    "        "
   ]
  },
  {
   "cell_type": "code",
   "execution_count": 90,
   "id": "69165501",
   "metadata": {},
   "outputs": [
    {
     "name": "stdout",
     "output_type": "stream",
     "text": [
      "[1, 4, 9, 16, 25, 36, 49, 64, 81, 100, 121, 144, 169, 196, 225, 256, 289, 324, 361, 400, 441, 484, 529, 576, 625, 676, 729, 784, 841, 900]\n"
     ]
    }
   ],
   "source": [
    "squ()"
   ]
  },
  {
   "cell_type": "code",
   "execution_count": 93,
   "id": "a8543489",
   "metadata": {},
   "outputs": [
    {
     "name": "stdout",
     "output_type": "stream",
     "text": [
      "2\n"
     ]
    }
   ],
   "source": [
    "def fun():\n",
    "    a=2\n",
    "    b=3\n",
    "    \n",
    "print(fun.__code__.co_nlocals)"
   ]
  },
  {
   "cell_type": "code",
   "execution_count": 6,
   "id": "fa906fbf",
   "metadata": {},
   "outputs": [],
   "source": [
    "def a(name=None,salary=None):\n",
    "    if salary!=None:\n",
    "        print(name,salary)\n",
    "    else:\n",
    "        print(\"name: \",name, \"salary:9000\")"
   ]
  },
  {
   "cell_type": "code",
   "execution_count": 7,
   "id": "cf669995",
   "metadata": {},
   "outputs": [
    {
     "name": "stdout",
     "output_type": "stream",
     "text": [
      "name:  ram salary:9000\n"
     ]
    }
   ],
   "source": [
    "a(\"ram\")"
   ]
  },
  {
   "cell_type": "code",
   "execution_count": 16,
   "id": "97c96f4f",
   "metadata": {},
   "outputs": [],
   "source": [
    "def a():\n",
    "    sum=0\n",
    "    for i in range(0,11):\n",
    "        sum+=i\n",
    "    print(sum)\n",
    "        "
   ]
  },
  {
   "cell_type": "code",
   "execution_count": 17,
   "id": "94e74c82",
   "metadata": {},
   "outputs": [
    {
     "name": "stdout",
     "output_type": "stream",
     "text": [
      "55\n"
     ]
    }
   ],
   "source": [
    "a()"
   ]
  },
  {
   "cell_type": "code",
   "execution_count": 20,
   "id": "43992322",
   "metadata": {},
   "outputs": [],
   "source": [
    "def a(name,age):\n",
    "    print(name,age)\n",
    "b=a\n"
   ]
  },
  {
   "cell_type": "code",
   "execution_count": 19,
   "id": "e285b7e5",
   "metadata": {},
   "outputs": [
    {
     "name": "stdout",
     "output_type": "stream",
     "text": [
      "Gamesh 21\n"
     ]
    }
   ],
   "source": [
    "a(\"Ganesh\",21)"
   ]
  },
  {
   "cell_type": "code",
   "execution_count": 21,
   "id": "ca26beba",
   "metadata": {},
   "outputs": [
    {
     "name": "stdout",
     "output_type": "stream",
     "text": [
      "Ram 31\n"
     ]
    }
   ],
   "source": [
    "b(\"Ram\",31)"
   ]
  },
  {
   "cell_type": "code",
   "execution_count": 21,
   "id": "d064684a",
   "metadata": {},
   "outputs": [],
   "source": [
    "class employee():\n",
    "    def __init__(self,name,salary):\n",
    "        self.name=name\n",
    "        self.salary=salary\n",
    "    def basicsalary(self):\n",
    "        basic=(50*self.salary)/100\n",
    "        print(\"Basic salary is \",basic)\n",
    "    def allowance(self):\n",
    "        allowance=(20*self.salary)/100\n",
    "    def tax(self):\n",
    "        tax=(30*self.salary)/100"
   ]
  },
  {
   "cell_type": "code",
   "execution_count": 22,
   "id": "d807640a",
   "metadata": {},
   "outputs": [
    {
     "name": "stdout",
     "output_type": "stream",
     "text": [
      "Basic salary is  500.0\n"
     ]
    }
   ],
   "source": [
    "a=employee(\"Ram\",1000)\n",
    "a.basicsalary()"
   ]
  },
  {
   "cell_type": "code",
   "execution_count": 27,
   "id": "ad597080",
   "metadata": {},
   "outputs": [],
   "source": [
    "class employee():\n",
    "    def __init__(self,name,salary):\n",
    "        self.name=name\n",
    "        self.salary=salary\n",
    "        print(\"The Name of Employee is \",self.name)\n",
    "        print(\"Then salary of employee is \",self.salary)\n",
    "class salarydetails(employee):\n",
    "    def basic_salary(self):\n",
    "        basic=(50*self.salary)/100\n",
    "        print(\"The Basic Salary is \",basic)\n",
    "    def allowance(self):\n",
    "        allowance=(20*self.salary)/100\n",
    "        print(\"The allowance is \",allowance)\n",
    "    def tax(self):\n",
    "        tax=(30*self.salary)/100\n",
    "        print(\"The Tax amount is\",tax)\n",
    "    \n",
    "        \n",
    "\n",
    "    "
   ]
  },
  {
   "cell_type": "code",
   "execution_count": 28,
   "id": "80876bb3",
   "metadata": {},
   "outputs": [
    {
     "name": "stdout",
     "output_type": "stream",
     "text": [
      "The Name of Employee is  Ganesh\n",
      "Then salary of employee is  2000\n",
      "The Basic Salary is  1000.0\n",
      "The allowance is  400.0\n",
      "The Tax amount is 600.0\n"
     ]
    }
   ],
   "source": [
    "a=salarydetails(\"Ganesh\",2000)\n",
    "a.basic_salary()\n",
    "a.allowance()\n",
    "a.tax()\n",
    "\n"
   ]
  },
  {
   "cell_type": "code",
   "execution_count": 25,
   "id": "beae4948",
   "metadata": {},
   "outputs": [
    {
     "ename": "NameError",
     "evalue": "name 'basicsalary' is not defined",
     "output_type": "error",
     "traceback": [
      "\u001b[1;31m---------------------------------------------------------------------------\u001b[0m",
      "\u001b[1;31mNameError\u001b[0m                                 Traceback (most recent call last)",
      "\u001b[1;32m~\\AppData\\Local\\Temp\\ipykernel_12052\\327817581.py\u001b[0m in \u001b[0;36m<module>\u001b[1;34m\u001b[0m\n\u001b[1;32m----> 1\u001b[1;33m \u001b[0ma\u001b[0m\u001b[1;33m=\u001b[0m\u001b[0mbasicsalary\u001b[0m\u001b[1;33m(\u001b[0m\u001b[1;34m\"Ganesh\"\u001b[0m\u001b[1;33m,\u001b[0m\u001b[1;36m2000\u001b[0m\u001b[1;33m)\u001b[0m\u001b[1;33m\u001b[0m\u001b[1;33m\u001b[0m\u001b[0m\n\u001b[0m\u001b[0;32m      2\u001b[0m \u001b[0ma\u001b[0m\u001b[1;33m.\u001b[0m\u001b[0mbasicsalary\u001b[0m\u001b[1;33m(\u001b[0m\u001b[1;33m)\u001b[0m\u001b[1;33m\u001b[0m\u001b[1;33m\u001b[0m\u001b[0m\n",
      "\u001b[1;31mNameError\u001b[0m: name 'basicsalary' is not defined"
     ]
    }
   ],
   "source": [
    "a=basicsalary(\"Ganesh\",2000)\n",
    "a.basicsalary()"
   ]
  },
  {
   "cell_type": "code",
   "execution_count": 186,
   "id": "037bd60f",
   "metadata": {},
   "outputs": [],
   "source": [
    "class employee():\n",
    "    def __init__(self,name,salary):\n",
    "        self.name=name\n",
    "        self.salary=salary\n",
    "        print(\"The Name of Employee is \",self.name)\n",
    "        print(\"Then salary of employee is \",self.salary)\n",
    "class salarydetails(employee):\n",
    "    def basic_salary(self):\n",
    "        basic=(50*self.salary)/100\n",
    "        print(\"The Basic Salary is \",basic)\n",
    "class allowance(salarydetails):\n",
    "    def allowance(self):\n",
    "        allowance=(20*self.salary)/100\n",
    "        print(\"The allowance is \",allowance)\n",
    "class tax(allowance):\n",
    "    def tax(self):\n",
    "        tax=(30*self.salary)/100\n",
    "        print(\"The Tax amount is\",tax)"
   ]
  },
  {
   "cell_type": "code",
   "execution_count": 188,
   "id": "08ac3131",
   "metadata": {},
   "outputs": [
    {
     "name": "stdout",
     "output_type": "stream",
     "text": [
      "The Name of Employee is  Ganesh\n",
      "Then salary of employee is  1000\n",
      "The Basic Salary is  500.0\n",
      "The allowance is  200.0\n",
      "The Tax amount is 300.0\n"
     ]
    }
   ],
   "source": [
    "a=tax(\"Ganesh\",1000)\n",
    "a.basic_salary()\n",
    "a.allowance()\n",
    "a.tax()\n",
    "\n"
   ]
  },
  {
   "cell_type": "code",
   "execution_count": 33,
   "id": "ad1c4636",
   "metadata": {},
   "outputs": [],
   "source": [
    "class employee():\n",
    "    def __init__(self,name,salary):\n",
    "        self.name=name\n",
    "        self.salary=salary\n",
    "class salarydetails(employee):\n",
    "    def salary_breakup(self):\n",
    "        basic=(50*self.salary)/100\n",
    "        allowance=(20*self.salary)/100\n",
    "        tax=(30*self.salary)/100\n",
    "        print(\"The Name of Employee is\",self.name,\"\\n\" \"Then salary of employee is\",self.salary)\n",
    "        print(\"The Basic Salary is \",basic)\n",
    "        print(\"The allowance is \",allowance)\n",
    "        print(\"The Tax amount is\",tax)"
   ]
  },
  {
   "cell_type": "code",
   "execution_count": 34,
   "id": "b9479a90",
   "metadata": {},
   "outputs": [
    {
     "name": "stdout",
     "output_type": "stream",
     "text": [
      "The Name of Employee is Ganesh \n",
      "Then salary of employee is 1000\n",
      "The Basic Salary is  500.0\n",
      "The allowance is  200.0\n",
      "The Tax amount is 300.0\n"
     ]
    }
   ],
   "source": [
    "a=salarydetails(\"Ganesh\",1000)\n",
    "a.salary_breakup()"
   ]
  },
  {
   "cell_type": "code",
   "execution_count": 46,
   "id": "6df41346",
   "metadata": {},
   "outputs": [],
   "source": [
    " class employee():\n",
    "       \n",
    "#         def getval(self):\n",
    "#             return self.__salary\n",
    "#         def setval(self,salary):\n",
    "#              self.__salary=salary\n",
    "        def __init__(self,name):\n",
    "                self.name=name\n",
    "                self. __salary=1000\n",
    "class salarydetails(employee):\n",
    "    def salary_breakup(self):\n",
    "        basic=(50*self.__salary)/100\n",
    "        allowance=(20*self.__salary)/100\n",
    "        tax=(30*self.__salary)/100\n",
    "        \n",
    "        print(\"The Name of Employee is\",self.name,\"\\n\" \"Then salary of employee is\",self.salary)\n",
    "        print(\"The Basic Salary is \",basic)\n",
    "        print(\"The allowance is \",allowance)\n",
    "        print(\"The Tax amount is\",tax)"
   ]
  },
  {
   "cell_type": "code",
   "execution_count": 47,
   "id": "6c86e1c6",
   "metadata": {},
   "outputs": [
    {
     "ename": "AttributeError",
     "evalue": "'employee' object has no attribute 'salary_breakup'",
     "output_type": "error",
     "traceback": [
      "\u001b[1;31m---------------------------------------------------------------------------\u001b[0m",
      "\u001b[1;31mAttributeError\u001b[0m                            Traceback (most recent call last)",
      "\u001b[1;32m~\\AppData\\Local\\Temp\\ipykernel_10380\\172083429.py\u001b[0m in \u001b[0;36m<module>\u001b[1;34m\u001b[0m\n\u001b[0;32m      1\u001b[0m \u001b[0ma\u001b[0m\u001b[1;33m=\u001b[0m\u001b[0memployee\u001b[0m\u001b[1;33m(\u001b[0m\u001b[1;34m\"Ganesh\"\u001b[0m\u001b[1;33m)\u001b[0m\u001b[1;33m\u001b[0m\u001b[1;33m\u001b[0m\u001b[0m\n\u001b[1;32m----> 2\u001b[1;33m \u001b[0ma\u001b[0m\u001b[1;33m.\u001b[0m\u001b[0msalary_breakup\u001b[0m\u001b[1;33m(\u001b[0m\u001b[1;33m)\u001b[0m\u001b[1;33m\u001b[0m\u001b[1;33m\u001b[0m\u001b[0m\n\u001b[0m",
      "\u001b[1;31mAttributeError\u001b[0m: 'employee' object has no attribute 'salary_breakup'"
     ]
    }
   ],
   "source": [
    "a=employee(\"Ganesh\")\n",
    "a.salary_breakup()\n"
   ]
  },
  {
   "cell_type": "code",
   "execution_count": 1,
   "id": "16897867",
   "metadata": {},
   "outputs": [],
   "source": [
    "class vehicle():\n",
    "    def max_speed(self):\n",
    "        print(\"Max Speed\")\n",
    "    def mileage(self):\n",
    "        print(\"Mileage\")"
   ]
  },
  {
   "cell_type": "code",
   "execution_count": 3,
   "id": "69a94c9f",
   "metadata": {},
   "outputs": [
    {
     "name": "stdout",
     "output_type": "stream",
     "text": [
      "<__main__.vehicle object at 0x0000023DFF3500D0>\n"
     ]
    }
   ],
   "source": [
    "a=vehicle()\n",
    "print(a)"
   ]
  },
  {
   "cell_type": "code",
   "execution_count": 25,
   "id": "fc777c78",
   "metadata": {},
   "outputs": [],
   "source": [
    "class Vehicle:\n",
    "\n",
    "    def __init__(self, name, max_speed, mileage):\n",
    "        self.name = name\n",
    "        self.max_speed = max_speed\n",
    "        self.mileage = mileage\n",
    "class Bus(Vehicle):\n",
    "    pass\n"
   ]
  },
  {
   "cell_type": "code",
   "execution_count": 26,
   "id": "a5d9398b",
   "metadata": {},
   "outputs": [],
   "source": [
    "class employee():\n",
    "    def __init__(self,name,salary):\n",
    "        self.name=name\n",
    "        \n",
    "        _salary =1000\n",
    "    def getval(self):\n",
    "        return self.__salary\n",
    "    def setval(self,salary):\n",
    "        self.__salary=salary\n",
    "class salarydetails(employee):\n",
    "    def salary_breakup(self):\n",
    "        basic=(50*self.salary)/100\n",
    "        allowance=(20*self.salary)/100\n",
    "        tax=(30*self.salary)/100\n",
    "        print(\"The Name of Employee is\",self.name,\"\\n\" \"Then salary of employee is\",self.salary)\n",
    "        print(\"The Basic Salary is \",basic)\n",
    "        print(\"The allowance is \",allowance)\n",
    "        print(\"The Tax amount is\",tax)"
   ]
  },
  {
   "cell_type": "code",
   "execution_count": 30,
   "id": "3f8dcba7",
   "metadata": {},
   "outputs": [
    {
     "ename": "AttributeError",
     "evalue": "'employee' object has no attribute 'salary_breakup'",
     "output_type": "error",
     "traceback": [
      "\u001b[1;31m---------------------------------------------------------------------------\u001b[0m",
      "\u001b[1;31mAttributeError\u001b[0m                            Traceback (most recent call last)",
      "\u001b[1;32m~\\AppData\\Local\\Temp\\ipykernel_10380\\3781224048.py\u001b[0m in \u001b[0;36m<module>\u001b[1;34m\u001b[0m\n\u001b[0;32m      1\u001b[0m \u001b[0ma\u001b[0m\u001b[1;33m=\u001b[0m\u001b[0memployee\u001b[0m\u001b[1;33m(\u001b[0m\u001b[1;34m\"Ganesh\"\u001b[0m\u001b[1;33m,\u001b[0m\u001b[1;36m2000\u001b[0m\u001b[1;33m)\u001b[0m\u001b[1;33m\u001b[0m\u001b[1;33m\u001b[0m\u001b[0m\n\u001b[1;32m----> 2\u001b[1;33m \u001b[0ma\u001b[0m\u001b[1;33m.\u001b[0m\u001b[0msalary_breakup\u001b[0m\u001b[1;33m(\u001b[0m\u001b[1;33m)\u001b[0m\u001b[1;33m\u001b[0m\u001b[1;33m\u001b[0m\u001b[0m\n\u001b[0m",
      "\u001b[1;31mAttributeError\u001b[0m: 'employee' object has no attribute 'salary_breakup'"
     ]
    }
   ],
   "source": [
    "a=employee(\"Ganesh\",2000)\n",
    "a.salary_breakup()"
   ]
  },
  {
   "cell_type": "code",
   "execution_count": 29,
   "id": "6c6d8846",
   "metadata": {},
   "outputs": [],
   "source": [
    "class employee():\n",
    "    def __init__(self,name):\n",
    "        self.name=name\n",
    "    __salary =1000\n",
    "    def getval(self):\n",
    "        return self.__salary\n",
    "    def setval(self,salary):\n",
    "        self.__salary=salary\n",
    "#class salarydetails(employee):\n",
    "    def salary_breakup(self):\n",
    "        basic=(50*self.__salary)/100\n",
    "        allowance=(20*__self.salary)/100\n",
    "        tax=(30*self.__salary)/100\n",
    "        print(\"The Name of Employee is\",self.name,\"\\n\" \"Then salary of employee is\",self.__salary)\n",
    "        print(\"The Basic Salary is \",basic)\n",
    "        print(\"The allowance is \",allowance)\n",
    "        print(\"The Tax amount is\",tax)"
   ]
  },
  {
   "cell_type": "code",
   "execution_count": 30,
   "id": "3ae2a407",
   "metadata": {},
   "outputs": [
    {
     "ename": "NameError",
     "evalue": "name '_employee__self' is not defined",
     "output_type": "error",
     "traceback": [
      "\u001b[1;31m---------------------------------------------------------------------------\u001b[0m",
      "\u001b[1;31mNameError\u001b[0m                                 Traceback (most recent call last)",
      "\u001b[1;32m~\\AppData\\Local\\Temp\\ipykernel_12052\\1185636626.py\u001b[0m in \u001b[0;36m<module>\u001b[1;34m\u001b[0m\n\u001b[0;32m      1\u001b[0m \u001b[0ma\u001b[0m\u001b[1;33m=\u001b[0m\u001b[0memployee\u001b[0m\u001b[1;33m(\u001b[0m\u001b[1;34m\"Ganesh\"\u001b[0m\u001b[1;33m)\u001b[0m\u001b[1;33m\u001b[0m\u001b[1;33m\u001b[0m\u001b[0m\n\u001b[1;32m----> 2\u001b[1;33m \u001b[0ma\u001b[0m\u001b[1;33m.\u001b[0m\u001b[0msalary_breakup\u001b[0m\u001b[1;33m(\u001b[0m\u001b[1;33m)\u001b[0m\u001b[1;33m\u001b[0m\u001b[1;33m\u001b[0m\u001b[0m\n\u001b[0m",
      "\u001b[1;32m~\\AppData\\Local\\Temp\\ipykernel_12052\\2044967848.py\u001b[0m in \u001b[0;36msalary_breakup\u001b[1;34m(self)\u001b[0m\n\u001b[0;32m     10\u001b[0m     \u001b[1;32mdef\u001b[0m \u001b[0msalary_breakup\u001b[0m\u001b[1;33m(\u001b[0m\u001b[0mself\u001b[0m\u001b[1;33m)\u001b[0m\u001b[1;33m:\u001b[0m\u001b[1;33m\u001b[0m\u001b[1;33m\u001b[0m\u001b[0m\n\u001b[0;32m     11\u001b[0m         \u001b[0mbasic\u001b[0m\u001b[1;33m=\u001b[0m\u001b[1;33m(\u001b[0m\u001b[1;36m50\u001b[0m\u001b[1;33m*\u001b[0m\u001b[0mself\u001b[0m\u001b[1;33m.\u001b[0m\u001b[0m__salary\u001b[0m\u001b[1;33m)\u001b[0m\u001b[1;33m/\u001b[0m\u001b[1;36m100\u001b[0m\u001b[1;33m\u001b[0m\u001b[1;33m\u001b[0m\u001b[0m\n\u001b[1;32m---> 12\u001b[1;33m         \u001b[0mallowance\u001b[0m\u001b[1;33m=\u001b[0m\u001b[1;33m(\u001b[0m\u001b[1;36m20\u001b[0m\u001b[1;33m*\u001b[0m\u001b[0m__self\u001b[0m\u001b[1;33m.\u001b[0m\u001b[0msalary\u001b[0m\u001b[1;33m)\u001b[0m\u001b[1;33m/\u001b[0m\u001b[1;36m100\u001b[0m\u001b[1;33m\u001b[0m\u001b[1;33m\u001b[0m\u001b[0m\n\u001b[0m\u001b[0;32m     13\u001b[0m         \u001b[0mtax\u001b[0m\u001b[1;33m=\u001b[0m\u001b[1;33m(\u001b[0m\u001b[1;36m30\u001b[0m\u001b[1;33m*\u001b[0m\u001b[0mself\u001b[0m\u001b[1;33m.\u001b[0m\u001b[0m__salary\u001b[0m\u001b[1;33m)\u001b[0m\u001b[1;33m/\u001b[0m\u001b[1;36m100\u001b[0m\u001b[1;33m\u001b[0m\u001b[1;33m\u001b[0m\u001b[0m\n\u001b[0;32m     14\u001b[0m         \u001b[0mprint\u001b[0m\u001b[1;33m(\u001b[0m\u001b[1;34m\"The Name of Employee is\"\u001b[0m\u001b[1;33m,\u001b[0m\u001b[0mself\u001b[0m\u001b[1;33m.\u001b[0m\u001b[0mname\u001b[0m\u001b[1;33m,\u001b[0m\u001b[1;34m\"\\n\"\u001b[0m \u001b[1;34m\"Then salary of employee is\"\u001b[0m\u001b[1;33m,\u001b[0m\u001b[0mself\u001b[0m\u001b[1;33m.\u001b[0m\u001b[0m__salary\u001b[0m\u001b[1;33m)\u001b[0m\u001b[1;33m\u001b[0m\u001b[1;33m\u001b[0m\u001b[0m\n",
      "\u001b[1;31mNameError\u001b[0m: name '_employee__self' is not defined"
     ]
    }
   ],
   "source": [
    "a=employee(\"Ganesh\")\n",
    "a.salary_breakup()"
   ]
  },
  {
   "cell_type": "code",
   "execution_count": 4,
   "id": "638693e7",
   "metadata": {},
   "outputs": [],
   "source": [
    "def showemployee(name,salary=9000):\n",
    "    print(\"Name: \",name, \"Salary: \", salary)"
   ]
  },
  {
   "cell_type": "code",
   "execution_count": 6,
   "id": "cec89b86",
   "metadata": {},
   "outputs": [
    {
     "name": "stdout",
     "output_type": "stream",
     "text": [
      "Name:  Jessa Salary:  12000\n"
     ]
    }
   ],
   "source": [
    "showemployee(\"Jessa\",12000)"
   ]
  },
  {
   "cell_type": "code",
   "execution_count": 7,
   "id": "d608adaa",
   "metadata": {},
   "outputs": [],
   "source": [
    "def display_student(name, age):\n",
    "    print(name, age)\n",
    "showStudent = display_student"
   ]
  },
  {
   "cell_type": "code",
   "execution_count": 8,
   "id": "230ddc26",
   "metadata": {},
   "outputs": [
    {
     "name": "stdout",
     "output_type": "stream",
     "text": [
      "Ganesh 21\n"
     ]
    }
   ],
   "source": [
    "showStudent(\"Ganesh\",21)"
   ]
  },
  {
   "cell_type": "code",
   "execution_count": 9,
   "id": "461718f2",
   "metadata": {},
   "outputs": [],
   "source": [
    "def evenno():\n",
    "    for i in range(4,30):\n",
    "        if i%2 ==0:\n",
    "            print(i)"
   ]
  },
  {
   "cell_type": "code",
   "execution_count": 11,
   "id": "352eed9c",
   "metadata": {},
   "outputs": [
    {
     "name": "stdout",
     "output_type": "stream",
     "text": [
      "4\n",
      "6\n",
      "8\n",
      "10\n",
      "12\n",
      "14\n",
      "16\n",
      "18\n",
      "20\n",
      "22\n",
      "24\n",
      "26\n",
      "28\n"
     ]
    }
   ],
   "source": [
    "evenno()"
   ]
  },
  {
   "cell_type": "code",
   "execution_count": 18,
   "id": "39029722",
   "metadata": {},
   "outputs": [],
   "source": [
    "def large(a):\n",
    "    d=a[0]\n",
    "    for i in a:\n",
    "        if i>d:\n",
    "            d=i\n",
    "    return d\n",
    "    "
   ]
  },
  {
   "cell_type": "code",
   "execution_count": 19,
   "id": "02e081a8",
   "metadata": {},
   "outputs": [
    {
     "data": {
      "text/plain": [
       "3"
      ]
     },
     "execution_count": 19,
     "metadata": {},
     "output_type": "execute_result"
    }
   ],
   "source": [
    "large([1,2,3])\n"
   ]
  },
  {
   "cell_type": "code",
   "execution_count": 16,
   "id": "0310ccd7",
   "metadata": {},
   "outputs": [],
   "source": [
    "def large(num):\n",
    "    max=num[0]\n",
    "    for i in num:\n",
    "        if i>max:\n",
    "            max=i\n",
    "    print(max)"
   ]
  },
  {
   "cell_type": "code",
   "execution_count": 17,
   "id": "a1df901d",
   "metadata": {},
   "outputs": [
    {
     "name": "stdout",
     "output_type": "stream",
     "text": [
      "3\n"
     ]
    }
   ],
   "source": [
    "large([1,2,3])"
   ]
  },
  {
   "cell_type": "code",
   "execution_count": 49,
   "id": "8ea12a9a",
   "metadata": {},
   "outputs": [],
   "source": [
    "def val(a,b):\n",
    "    print(\"value of a is\",a)\n",
    "    print(\"value of b is\",b)\n",
    "    def add(a,b):\n",
    "        c=a+b\n",
    "        print(\"The valuer of c is\",c)\n",
    "        print(\"Sum of a and b is \",a+b)\n",
    "        \n",
    "        \n"
   ]
  },
  {
   "cell_type": "code",
   "execution_count": 50,
   "id": "db7031ad",
   "metadata": {},
   "outputs": [
    {
     "name": "stdout",
     "output_type": "stream",
     "text": [
      "value of a is 2\n",
      "value of b is 3\n",
      "Sum of a and b is  5\n"
     ]
    }
   ],
   "source": [
    "val(2,3)\n",
    "add(2,3)\n"
   ]
  },
  {
   "cell_type": "code",
   "execution_count": 46,
   "id": "ebb5cbd3",
   "metadata": {},
   "outputs": [
    {
     "name": "stdout",
     "output_type": "stream",
     "text": [
      "20\n"
     ]
    }
   ],
   "source": [
    "def outer_fun(a, b):\n",
    "    square = a ** 2\n",
    "\n",
    "    # inner function\n",
    "    def addition(a, b):\n",
    "        return a + b\n",
    "\n",
    "    # call inner function from outer function\n",
    "    add = addition(a, b)\n",
    "    # add 5 to the result\n",
    "    return add + 5\n",
    "\n",
    "result = outer_fun(5, 10)\n",
    "print(result)"
   ]
  },
  {
   "cell_type": "code",
   "execution_count": 67,
   "id": "5c46c9db",
   "metadata": {},
   "outputs": [],
   "source": [
    "def val(a,b):\n",
    "    print(\"value of a is\",a)\n",
    "    print(\"value of b is\",b)\n",
    "    def add(a,b):\n",
    "        print(a+b)\n",
    "        print(a+b+5)\n",
    "        "
   ]
  },
  {
   "cell_type": "code",
   "execution_count": 68,
   "id": "7495d8cf",
   "metadata": {},
   "outputs": [
    {
     "name": "stdout",
     "output_type": "stream",
     "text": [
      "value of a is 2\n",
      "value of b is 3\n",
      "Sum of a and b is  5\n"
     ]
    }
   ],
   "source": [
    "val(2,3)\n",
    "add(2,3)"
   ]
  },
  {
   "cell_type": "code",
   "execution_count": 35,
   "id": "0d4a5ba8",
   "metadata": {},
   "outputs": [],
   "source": [
    "def val(a,b):\n",
    "    print(\"value of a is\",a)\n",
    "    print(\"value of b is\",b)\n",
    "def add(a,b):\n",
    "        c=a+b\n",
    "        print(\"The value of c is\",c+8)\n",
    "        print(\"Sum of a and b is \",a+b)\n",
    "        "
   ]
  },
  {
   "cell_type": "code",
   "execution_count": 36,
   "id": "3970410e",
   "metadata": {},
   "outputs": [
    {
     "name": "stdout",
     "output_type": "stream",
     "text": [
      "value of a is 2\n",
      "value of b is 3\n",
      "The value of c is 13\n",
      "Sum of a and b is  5\n"
     ]
    }
   ],
   "source": [
    "val(2,3)\n",
    "add(2,3)"
   ]
  },
  {
   "cell_type": "code",
   "execution_count": 17,
   "id": "caab3af6",
   "metadata": {},
   "outputs": [],
   "source": [
    "class employee():\n",
    "    def __init__(self,name):\n",
    "        self.name=name\n",
    "    __salary =1000\n",
    "    def getval(self):\n",
    "        return self.__salary\n",
    "    def setval(self,salary):\n",
    "        self.__salary=salary\n",
    "#class salarydetails(employee):\n",
    "    def salary_breakup(self):\n",
    "        basic=(50*self.__salary)/100\n",
    "        allowance=(20*__self.salary)/100\n",
    "        tax=(30*self.__salary)/100\n",
    "        print(\"The Name of Employee is\",self.name,\"\\n\" \"Then salary of employee is\",self.__salary)\n",
    "        print(\"The Basic Salary is \",basic)\n",
    "        print(\"The allowance is \",allowance)\n",
    "        print(\"The Tax amount is\",tax)"
   ]
  },
  {
   "cell_type": "code",
   "execution_count": 18,
   "id": "b1e72512",
   "metadata": {},
   "outputs": [
    {
     "ename": "NameError",
     "evalue": "name '_employee__self' is not defined",
     "output_type": "error",
     "traceback": [
      "\u001b[1;31m---------------------------------------------------------------------------\u001b[0m",
      "\u001b[1;31mNameError\u001b[0m                                 Traceback (most recent call last)",
      "\u001b[1;32m~\\AppData\\Local\\Temp\\ipykernel_12052\\1185636626.py\u001b[0m in \u001b[0;36m<module>\u001b[1;34m\u001b[0m\n\u001b[0;32m      1\u001b[0m \u001b[0ma\u001b[0m\u001b[1;33m=\u001b[0m\u001b[0memployee\u001b[0m\u001b[1;33m(\u001b[0m\u001b[1;34m\"Ganesh\"\u001b[0m\u001b[1;33m)\u001b[0m\u001b[1;33m\u001b[0m\u001b[1;33m\u001b[0m\u001b[0m\n\u001b[1;32m----> 2\u001b[1;33m \u001b[0ma\u001b[0m\u001b[1;33m.\u001b[0m\u001b[0msalary_breakup\u001b[0m\u001b[1;33m(\u001b[0m\u001b[1;33m)\u001b[0m\u001b[1;33m\u001b[0m\u001b[1;33m\u001b[0m\u001b[0m\n\u001b[0m",
      "\u001b[1;32m~\\AppData\\Local\\Temp\\ipykernel_12052\\2044967848.py\u001b[0m in \u001b[0;36msalary_breakup\u001b[1;34m(self)\u001b[0m\n\u001b[0;32m     10\u001b[0m     \u001b[1;32mdef\u001b[0m \u001b[0msalary_breakup\u001b[0m\u001b[1;33m(\u001b[0m\u001b[0mself\u001b[0m\u001b[1;33m)\u001b[0m\u001b[1;33m:\u001b[0m\u001b[1;33m\u001b[0m\u001b[1;33m\u001b[0m\u001b[0m\n\u001b[0;32m     11\u001b[0m         \u001b[0mbasic\u001b[0m\u001b[1;33m=\u001b[0m\u001b[1;33m(\u001b[0m\u001b[1;36m50\u001b[0m\u001b[1;33m*\u001b[0m\u001b[0mself\u001b[0m\u001b[1;33m.\u001b[0m\u001b[0m__salary\u001b[0m\u001b[1;33m)\u001b[0m\u001b[1;33m/\u001b[0m\u001b[1;36m100\u001b[0m\u001b[1;33m\u001b[0m\u001b[1;33m\u001b[0m\u001b[0m\n\u001b[1;32m---> 12\u001b[1;33m         \u001b[0mallowance\u001b[0m\u001b[1;33m=\u001b[0m\u001b[1;33m(\u001b[0m\u001b[1;36m20\u001b[0m\u001b[1;33m*\u001b[0m\u001b[0m__self\u001b[0m\u001b[1;33m.\u001b[0m\u001b[0msalary\u001b[0m\u001b[1;33m)\u001b[0m\u001b[1;33m/\u001b[0m\u001b[1;36m100\u001b[0m\u001b[1;33m\u001b[0m\u001b[1;33m\u001b[0m\u001b[0m\n\u001b[0m\u001b[0;32m     13\u001b[0m         \u001b[0mtax\u001b[0m\u001b[1;33m=\u001b[0m\u001b[1;33m(\u001b[0m\u001b[1;36m30\u001b[0m\u001b[1;33m*\u001b[0m\u001b[0mself\u001b[0m\u001b[1;33m.\u001b[0m\u001b[0m__salary\u001b[0m\u001b[1;33m)\u001b[0m\u001b[1;33m/\u001b[0m\u001b[1;36m100\u001b[0m\u001b[1;33m\u001b[0m\u001b[1;33m\u001b[0m\u001b[0m\n\u001b[0;32m     14\u001b[0m         \u001b[0mprint\u001b[0m\u001b[1;33m(\u001b[0m\u001b[1;34m\"The Name of Employee is\"\u001b[0m\u001b[1;33m,\u001b[0m\u001b[0mself\u001b[0m\u001b[1;33m.\u001b[0m\u001b[0mname\u001b[0m\u001b[1;33m,\u001b[0m\u001b[1;34m\"\\n\"\u001b[0m \u001b[1;34m\"Then salary of employee is\"\u001b[0m\u001b[1;33m,\u001b[0m\u001b[0mself\u001b[0m\u001b[1;33m.\u001b[0m\u001b[0m__salary\u001b[0m\u001b[1;33m)\u001b[0m\u001b[1;33m\u001b[0m\u001b[1;33m\u001b[0m\u001b[0m\n",
      "\u001b[1;31mNameError\u001b[0m: name '_employee__self' is not defined"
     ]
    }
   ],
   "source": [
    "a=employee(\"Ganesh\")\n",
    "a.salary_breakup()"
   ]
  },
  {
   "cell_type": "code",
   "execution_count": null,
   "id": "649160e9",
   "metadata": {},
   "outputs": [],
   "source": []
  }
 ],
 "metadata": {
  "kernelspec": {
   "display_name": "Python 3 (ipykernel)",
   "language": "python",
   "name": "python3"
  },
  "language_info": {
   "codemirror_mode": {
    "name": "ipython",
    "version": 3
   },
   "file_extension": ".py",
   "mimetype": "text/x-python",
   "name": "python",
   "nbconvert_exporter": "python",
   "pygments_lexer": "ipython3",
   "version": "3.9.13"
  }
 },
 "nbformat": 4,
 "nbformat_minor": 5
}
