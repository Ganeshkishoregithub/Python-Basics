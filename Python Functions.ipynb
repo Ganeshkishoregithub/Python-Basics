{
 "cells": [
  {
   "cell_type": "code",
   "execution_count": 4,
   "id": "1de598d9",
   "metadata": {},
   "outputs": [
    {
     "name": "stdout",
     "output_type": "stream",
     "text": [
      "16\n",
      "20\n"
     ]
    }
   ],
   "source": [
    "a=7\n",
    "b=9\n",
    "print(a+b)\n",
    "a=15\n",
    "b=5\n",
    "print(a+b)"
   ]
  },
  {
   "cell_type": "code",
   "execution_count": 59,
   "id": "5023cc24",
   "metadata": {},
   "outputs": [],
   "source": [
    "# Functions - when we perform a same process we can use function for this \n",
    "def test(a,b):\n",
    "    print(a+b) # this will just print the value but thi value we can use it outside the function, hence we use return for this.\n"
   ]
  },
  {
   "cell_type": "code",
   "execution_count": 18,
   "id": "508fb0ca",
   "metadata": {},
   "outputs": [
    {
     "data": {
      "text/plain": [
       "30"
      ]
     },
     "execution_count": 18,
     "metadata": {},
     "output_type": "execute_result"
    }
   ],
   "source": [
    "test(10,20)\n"
   ]
  },
  {
   "cell_type": "code",
   "execution_count": 19,
   "id": "c37bc1e4",
   "metadata": {},
   "outputs": [],
   "source": [
    "def test(a,b):\n",
    "    return(a+b)"
   ]
  },
  {
   "cell_type": "code",
   "execution_count": 23,
   "id": "e3c0dc47",
   "metadata": {},
   "outputs": [
    {
     "name": "stdout",
     "output_type": "stream",
     "text": [
      "10\n"
     ]
    }
   ],
   "source": [
    "a=test(5,5)\n",
    "print(a)"
   ]
  },
  {
   "cell_type": "code",
   "execution_count": 24,
   "id": "894bf504",
   "metadata": {},
   "outputs": [
    {
     "data": {
      "text/plain": [
       "15"
      ]
     },
     "execution_count": 24,
     "metadata": {},
     "output_type": "execute_result"
    }
   ],
   "source": [
    "test(a,5)"
   ]
  },
  {
   "cell_type": "code",
   "execution_count": 25,
   "id": "191ed742",
   "metadata": {},
   "outputs": [],
   "source": [
    "def test(): # it is not mandatory that a function should have a arguement\n",
    "    print(\"Hi\")"
   ]
  },
  {
   "cell_type": "code",
   "execution_count": 26,
   "id": "88c36ab1",
   "metadata": {},
   "outputs": [
    {
     "name": "stdout",
     "output_type": "stream",
     "text": [
      "Hi\n"
     ]
    }
   ],
   "source": [
    "test()"
   ]
  },
  {
   "cell_type": "code",
   "execution_count": 70,
   "id": "6dbb0f42",
   "metadata": {},
   "outputs": [
    {
     "name": "stdout",
     "output_type": "stream",
     "text": [
      "demo\n",
      "test\n"
     ]
    }
   ],
   "source": [
    "a=\"test\"\n",
    "def demo():\n",
    "    a=\"demo\"\n",
    "    print(a)\n",
    "demo()   # here demo is output since it represents the function\n",
    "print(a) # here the output will be global variable"
   ]
  },
  {
   "cell_type": "code",
   "execution_count": 2,
   "id": "5426b7f2",
   "metadata": {},
   "outputs": [
    {
     "name": "stdout",
     "output_type": "stream",
     "text": [
      "demo\n",
      "demo\n"
     ]
    }
   ],
   "source": [
    "a=\"test\"\n",
    "def demo():\n",
    "    global a   #global- Normally variable outside func is global variable, if we want valu in func to be global we use global\n",
    "    a=\"demo\"\n",
    "    print(a)\n",
    "demo()   \n",
    "print(a)"
   ]
  },
  {
   "cell_type": "code",
   "execution_count": 58,
   "id": "ca0ba54f",
   "metadata": {},
   "outputs": [
    {
     "name": "stdout",
     "output_type": "stream",
     "text": [
      "150\n",
      "155\n",
      "160\n"
     ]
    }
   ],
   "source": [
    "def mul(a,b,c):\n",
    "    return (a*b*c)\n",
    "m= mul(5,6,5)\n",
    "\n",
    "print(m)\n",
    "def add(a,b):\n",
    "    print(a+b)\n",
    "add(m,5)\n",
    "add(m,10)\n"
   ]
  },
  {
   "cell_type": "code",
   "execution_count": 65,
   "id": "2f65a66a",
   "metadata": {},
   "outputs": [
    {
     "name": "stdout",
     "output_type": "stream",
     "text": [
      "130\n",
      "135\n"
     ]
    }
   ],
   "source": [
    "def mul(a,b,c):\n",
    "    return (a*b*c)\n",
    "m=mul(5,5,5)\n",
    "def add(a,b):\n",
    "    print(a+b)\n",
    "add(m,5)\n",
    "add(m,10)\n"
   ]
  },
  {
   "cell_type": "code",
   "execution_count": 77,
   "id": "f4987e92",
   "metadata": {},
   "outputs": [
    {
     "ename": "TypeError",
     "evalue": "name() missing 1 required positional argument: 'lname'",
     "output_type": "error",
     "traceback": [
      "\u001b[1;31m---------------------------------------------------------------------------\u001b[0m",
      "\u001b[1;31mTypeError\u001b[0m                                 Traceback (most recent call last)",
      "\u001b[1;32m~\\AppData\\Local\\Temp\\ipykernel_26672\\2831050228.py\u001b[0m in \u001b[0;36m<module>\u001b[1;34m\u001b[0m\n\u001b[0;32m      1\u001b[0m \u001b[1;32mdef\u001b[0m \u001b[0mname\u001b[0m\u001b[1;33m(\u001b[0m\u001b[0mfname\u001b[0m\u001b[1;33m,\u001b[0m \u001b[0mmname\u001b[0m\u001b[1;33m,\u001b[0m \u001b[0mlname\u001b[0m\u001b[1;33m)\u001b[0m\u001b[1;33m:\u001b[0m\u001b[1;33m\u001b[0m\u001b[1;33m\u001b[0m\u001b[0m\n\u001b[0;32m      2\u001b[0m     \u001b[0mprint\u001b[0m\u001b[1;33m(\u001b[0m\u001b[0mfname\u001b[0m\u001b[1;33m,\u001b[0m \u001b[0mmname\u001b[0m\u001b[1;33m,\u001b[0m \u001b[0mlname\u001b[0m\u001b[1;33m)\u001b[0m\u001b[1;33m\u001b[0m\u001b[1;33m\u001b[0m\u001b[0m\n\u001b[1;32m----> 3\u001b[1;33m \u001b[0mname\u001b[0m\u001b[1;33m(\u001b[0m\u001b[1;34m\"Ganesh\"\u001b[0m\u001b[1;33m,\u001b[0m\u001b[1;34m\"kishore\"\u001b[0m\u001b[1;33m)\u001b[0m\u001b[1;33m\u001b[0m\u001b[1;33m\u001b[0m\u001b[0m\n\u001b[0m",
      "\u001b[1;31mTypeError\u001b[0m: name() missing 1 required positional argument: 'lname'"
     ]
    }
   ],
   "source": [
    "def name(fname, mname, lname):\n",
    "    print(fname, mname, lname)\n",
    "name(\"Ganesh\",\"kishore\") \n",
    "#here it shows error because lname dosent have value, to avoid this we will assign value to None"
   ]
  },
  {
   "cell_type": "code",
   "execution_count": 78,
   "id": "6cf6427e",
   "metadata": {},
   "outputs": [
    {
     "name": "stdout",
     "output_type": "stream",
     "text": [
      "Ganesh kishore None\n"
     ]
    }
   ],
   "source": [
    "def name(fname=None, mname=None, lname=None):\n",
    "    print(fname, mname, lname)\n",
    "name(\"Ganesh\",\"kishore\") \n",
    "#here my lname is Kishore but it take as mname so follow the below"
   ]
  },
  {
   "cell_type": "code",
   "execution_count": 75,
   "id": "422007e9",
   "metadata": {},
   "outputs": [
    {
     "name": "stdout",
     "output_type": "stream",
     "text": [
      "Ganesh None kishore\n"
     ]
    }
   ],
   "source": [
    "def name(fname=None, mname=None, lname=None):\n",
    "    print(fname, mname, lname)\n",
    "name(fname=\"Ganesh\",lname=\"kishore\") "
   ]
  },
  {
   "cell_type": "code",
   "execution_count": 82,
   "id": "3c78ec3b",
   "metadata": {},
   "outputs": [
    {
     "name": "stdout",
     "output_type": "stream",
     "text": [
      "a is 1\n",
      "b is 2\n",
      "c is 3\n"
     ]
    }
   ],
   "source": [
    "#postional arguements\n",
    "def test(a,b,c):\n",
    "    print(\"a is\",a)\n",
    "    print(\"b is\",b)\n",
    "    print(\"c is\",c)\n",
    "test(1,2,3)   "
   ]
  },
  {
   "cell_type": "code",
   "execution_count": 83,
   "id": "8e280058",
   "metadata": {},
   "outputs": [
    {
     "name": "stdout",
     "output_type": "stream",
     "text": [
      "a is 3\n",
      "b is 3\n",
      "c is 5\n"
     ]
    }
   ],
   "source": [
    "#Keyword arguements\n",
    "def test(a,b,c):\n",
    "    print(\"a is\",a)\n",
    "    print(\"b is\",b)\n",
    "    print(\"c is\",c)\n",
    "test(a=3,b=3,c=5)"
   ]
  },
  {
   "cell_type": "code",
   "execution_count": 89,
   "id": "13ea69e3",
   "metadata": {},
   "outputs": [
    {
     "ename": "SyntaxError",
     "evalue": "positional argument follows keyword argument (3960902984.py, line 5)",
     "output_type": "error",
     "traceback": [
      "\u001b[1;36m  File \u001b[1;32m\"C:\\Users\\ganes\\AppData\\Local\\Temp\\ipykernel_26672\\3960902984.py\"\u001b[1;36m, line \u001b[1;32m5\u001b[0m\n\u001b[1;33m    test(b=3,c=5,5)\u001b[0m\n\u001b[1;37m                  ^\u001b[0m\n\u001b[1;31mSyntaxError\u001b[0m\u001b[1;31m:\u001b[0m positional argument follows keyword argument\n"
     ]
    }
   ],
   "source": [
    "def test(a,b,c):\n",
    "    print(\"a is\",a)\n",
    "    print(\"b is\",b)\n",
    "    print(\"c is\",c)\n",
    "test(b=3,c=5,5)\n",
    "#here we have used keyword arguement followed by positional hence it will show error "
   ]
  },
  {
   "cell_type": "code",
   "execution_count": 88,
   "id": "d484f2ce",
   "metadata": {},
   "outputs": [
    {
     "name": "stdout",
     "output_type": "stream",
     "text": [
      "a is 1\n",
      "b is 3\n",
      "c is 5\n"
     ]
    }
   ],
   "source": [
    "def test(a,b,c):\n",
    "    print(\"a is\",a)\n",
    "    print(\"b is\",b)\n",
    "    print(\"c is\",c)\n",
    "test(1,b=3,c=5)\n",
    "#here we have used keyword arguement followed by positional hence it will show error "
   ]
  },
  {
   "cell_type": "code",
   "execution_count": 90,
   "id": "b0361b1f",
   "metadata": {},
   "outputs": [],
   "source": [
    "def test(*args):\n",
    "    print(args)\n",
    "#here we have used *args because it can accept any no of inputs "
   ]
  },
  {
   "cell_type": "code",
   "execution_count": 91,
   "id": "ed204a0d",
   "metadata": {},
   "outputs": [
    {
     "name": "stdout",
     "output_type": "stream",
     "text": [
      "(1, 2, 3, 4, 5)\n"
     ]
    }
   ],
   "source": [
    "test(1,2,3,4,5)"
   ]
  },
  {
   "cell_type": "code",
   "execution_count": 93,
   "id": "68a90dd3",
   "metadata": {},
   "outputs": [],
   "source": [
    "def test(**kwargs):\n",
    "    print(kwargs)\n",
    "#here we have used **kwargs because it can accept any no of keyword arguments\n"
   ]
  },
  {
   "cell_type": "code",
   "execution_count": 95,
   "id": "2213ac6e",
   "metadata": {},
   "outputs": [
    {
     "name": "stdout",
     "output_type": "stream",
     "text": [
      "{'name': 'Ganesh', 'age': '22', 'location': 'chennai'}\n"
     ]
    }
   ],
   "source": [
    "test(name= \"Ganesh\", age =\"22\", location=\"chennai\")"
   ]
  },
  {
   "cell_type": "code",
   "execution_count": 100,
   "id": "60eb8a64",
   "metadata": {},
   "outputs": [],
   "source": [
    "def test(**kwargs):\n",
    "    print(kwargs)\n",
    "    name=kwargs.get('name')\n",
    "    print(\"name is \", name)\n",
    "\n",
    "# here we can defined only name in function but still it didnt through error as we use kwargs"
   ]
  },
  {
   "cell_type": "code",
   "execution_count": 99,
   "id": "9bc66f48",
   "metadata": {},
   "outputs": [
    {
     "name": "stdout",
     "output_type": "stream",
     "text": [
      "{'name': 'Ganesh', 'age': '22', 'location': 'chennai', 'address': 'demo'}\n",
      "name is  Ganesh\n"
     ]
    }
   ],
   "source": [
    "test(name= \"Ganesh\", age =\"22\", location=\"chennai\", address=\"demo\")"
   ]
  },
  {
   "cell_type": "code",
   "execution_count": 102,
   "id": "5f635d10",
   "metadata": {},
   "outputs": [
    {
     "data": {
      "text/plain": [
       "5"
      ]
     },
     "execution_count": 102,
     "metadata": {},
     "output_type": "execute_result"
    }
   ],
   "source": [
    "#in-line functions - it is used to define a functions in a simple way. not used mostly for bigger tasks\n",
    "a = lambda x,y : x+y\n",
    "a(2,3)"
   ]
  },
  {
   "cell_type": "code",
   "execution_count": 108,
   "id": "cf65c8a4",
   "metadata": {},
   "outputs": [
    {
     "data": {
      "text/plain": [
       "18"
      ]
     },
     "execution_count": 108,
     "metadata": {},
     "output_type": "execute_result"
    }
   ],
   "source": [
    "a = lambda x,y : x*y\n",
    "a(6,3)"
   ]
  },
  {
   "cell_type": "code",
   "execution_count": null,
   "id": "518d3c74",
   "metadata": {},
   "outputs": [],
   "source": []
  }
 ],
 "metadata": {
  "kernelspec": {
   "display_name": "Python 3 (ipykernel)",
   "language": "python",
   "name": "python3"
  },
  "language_info": {
   "codemirror_mode": {
    "name": "ipython",
    "version": 3
   },
   "file_extension": ".py",
   "mimetype": "text/x-python",
   "name": "python",
   "nbconvert_exporter": "python",
   "pygments_lexer": "ipython3",
   "version": "3.9.13"
  }
 },
 "nbformat": 4,
 "nbformat_minor": 5
}
