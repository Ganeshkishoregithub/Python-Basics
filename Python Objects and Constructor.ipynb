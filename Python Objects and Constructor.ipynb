{
 "cells": [
  {
   "cell_type": "code",
   "execution_count": 5,
   "id": "703f699f",
   "metadata": {},
   "outputs": [],
   "source": [
    "#object\n",
    "class test():\n",
    "    def demo(self):\n",
    "        print(\"hi\")\n",
    "#here we give self bcos when we declare a function inside a class we need mention self\n",
    "#function inside a class is called as method()"
   ]
  },
  {
   "cell_type": "code",
   "execution_count": 2,
   "id": "dc2d8725",
   "metadata": {},
   "outputs": [],
   "source": [
    "a= test() #here when we initiate a class to a varibale it becomes an object"
   ]
  },
  {
   "cell_type": "code",
   "execution_count": 3,
   "id": "f8701026",
   "metadata": {},
   "outputs": [
    {
     "name": "stdout",
     "output_type": "stream",
     "text": [
      "<__main__.test object at 0x0000028E5B42B640>\n"
     ]
    }
   ],
   "source": [
    "print(a) #this will tell that a is an object"
   ]
  },
  {
   "cell_type": "code",
   "execution_count": 4,
   "id": "325dce3a",
   "metadata": {},
   "outputs": [
    {
     "name": "stdout",
     "output_type": "stream",
     "text": [
      "hi\n"
     ]
    }
   ],
   "source": [
    "a.demo() #this is way to call the function in class"
   ]
  },
  {
   "cell_type": "code",
   "execution_count": 12,
   "id": "8484a599",
   "metadata": {},
   "outputs": [],
   "source": [
    "class calc():\n",
    "    def add(self,a,b):\n",
    "        print(a+b)\n",
    "    def sub(self,a,b):\n",
    "        print(a-b)\n",
    "    def mul(self,a,b):\n",
    "        print(a*b)\n",
    "    def div(self,a,b):\n",
    "        print(a/b)"
   ]
  },
  {
   "cell_type": "code",
   "execution_count": 14,
   "id": "522704c5",
   "metadata": {},
   "outputs": [
    {
     "name": "stdout",
     "output_type": "stream",
     "text": [
      "<__main__.calc object at 0x0000028E5B898A00>\n"
     ]
    }
   ],
   "source": [
    "a=calc()\n",
    "print(a)"
   ]
  },
  {
   "cell_type": "code",
   "execution_count": 15,
   "id": "ecea2173",
   "metadata": {},
   "outputs": [
    {
     "name": "stdout",
     "output_type": "stream",
     "text": [
      "20\n"
     ]
    }
   ],
   "source": [
    "a.add(15,5)"
   ]
  },
  {
   "cell_type": "code",
   "execution_count": 16,
   "id": "024cdffd",
   "metadata": {},
   "outputs": [
    {
     "name": "stdout",
     "output_type": "stream",
     "text": [
      "10\n",
      "75\n",
      "3.0\n"
     ]
    }
   ],
   "source": [
    "a.sub(15,5)\n",
    "a.mul(15,5)\n",
    "a.div(15,5)"
   ]
  },
  {
   "cell_type": "code",
   "execution_count": 3,
   "id": "73b26a58",
   "metadata": {},
   "outputs": [],
   "source": [
    "#constructor-\n",
    "class calc():\n",
    "    \n",
    "    def __init__(self,a,b):\n",
    "        print(\"inside\")\n",
    "        self.a=a\n",
    "        self.b=b\n",
    "    def add(self):\n",
    "        print(self.a+self.b)\n",
    "    def sub(self):\n",
    "        print(self.a-self.b)\n",
    "        "
   ]
  },
  {
   "cell_type": "code",
   "execution_count": 4,
   "id": "7ff5894b",
   "metadata": {},
   "outputs": [
    {
     "name": "stdout",
     "output_type": "stream",
     "text": [
      "inside\n"
     ]
    }
   ],
   "source": [
    "a=calc(5,4)"
   ]
  },
  {
   "cell_type": "code",
   "execution_count": 29,
   "id": "e0e725b4",
   "metadata": {},
   "outputs": [
    {
     "name": "stdout",
     "output_type": "stream",
     "text": [
      "9\n"
     ]
    }
   ],
   "source": [
    "a.add()"
   ]
  },
  {
   "cell_type": "code",
   "execution_count": 45,
   "id": "a3e3cc19",
   "metadata": {},
   "outputs": [],
   "source": [
    "class car():\n",
    "    def nano(self):\n",
    "        print(\"Speed is 50km/hr\")\n",
    "    def jeep(self):\n",
    "        print(\"Speed is 100km/hr\")"
   ]
  },
  {
   "cell_type": "code",
   "execution_count": 46,
   "id": "cc503c31",
   "metadata": {},
   "outputs": [],
   "source": [
    "a=car()"
   ]
  },
  {
   "cell_type": "code",
   "execution_count": 47,
   "id": "e5cbae48",
   "metadata": {},
   "outputs": [
    {
     "name": "stdout",
     "output_type": "stream",
     "text": [
      "Speed is 50km/hr\n"
     ]
    }
   ],
   "source": [
    "a.nano()"
   ]
  },
  {
   "cell_type": "code",
   "execution_count": 48,
   "id": "623ef23b",
   "metadata": {},
   "outputs": [],
   "source": [
    "class car():\n",
    "    def __init__(self,model):\n",
    "        self.model=model\n",
    "    def speed(self):\n",
    "        if self.model == \"jeep\":\n",
    "            print(\"speed of jeep is 150km/hr\")\n",
    "        elif self.model == \"nano\":\n",
    "            print(\"speed of nano is 50km/hr\")"
   ]
  },
  {
   "cell_type": "code",
   "execution_count": 56,
   "id": "edcfe01c",
   "metadata": {},
   "outputs": [
    {
     "name": "stdout",
     "output_type": "stream",
     "text": [
      "speed of jeep is 150km/hr\n"
     ]
    }
   ],
   "source": [
    "a=car(\"jeep\")\n",
    "a.speed()      "
   ]
  },
  {
   "cell_type": "code",
   "execution_count": null,
   "id": "38935efe",
   "metadata": {},
   "outputs": [],
   "source": []
  },
  {
   "cell_type": "code",
   "execution_count": null,
   "id": "9fa94f04",
   "metadata": {},
   "outputs": [],
   "source": []
  },
  {
   "cell_type": "code",
   "execution_count": null,
   "id": "958d3dac",
   "metadata": {},
   "outputs": [],
   "source": []
  }
 ],
 "metadata": {
  "kernelspec": {
   "display_name": "Python 3 (ipykernel)",
   "language": "python",
   "name": "python3"
  },
  "language_info": {
   "codemirror_mode": {
    "name": "ipython",
    "version": 3
   },
   "file_extension": ".py",
   "mimetype": "text/x-python",
   "name": "python",
   "nbconvert_exporter": "python",
   "pygments_lexer": "ipython3",
   "version": "3.9.13"
  }
 },
 "nbformat": 4,
 "nbformat_minor": 5
}
