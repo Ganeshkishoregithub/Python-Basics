{
 "cells": [
  {
   "cell_type": "code",
   "execution_count": 1,
   "id": "434ca3bd",
   "metadata": {},
   "outputs": [
    {
     "name": "stdout",
     "output_type": "stream",
     "text": [
      "<class 'list'>\n",
      "True\n"
     ]
    }
   ],
   "source": [
    "#List\n",
    "#list starts with [] bracket\n",
    "a=[\"Ganesh\",\"1\", \"Chennai\"]\n",
    "print(type(a))\n",
    "print(isinstance(a,list))"
   ]
  },
  {
   "cell_type": "code",
   "execution_count": 6,
   "id": "132f881c",
   "metadata": {},
   "outputs": [
    {
     "name": "stdout",
     "output_type": "stream",
     "text": [
      "<class 'list'>\n",
      "True\n"
     ]
    }
   ],
   "source": [
    "#instead of creating more variables we can assign multiple string in a list\n",
    "a=[\"Ganesh\",\"1\", \"Chennai\", \"Ram\", \"2\", \"madurai\"]\n",
    "print(type(a))\n",
    "print(isinstance(a,list))"
   ]
  },
  {
   "cell_type": "code",
   "execution_count": 3,
   "id": "b409fd13",
   "metadata": {},
   "outputs": [
    {
     "name": "stdout",
     "output_type": "stream",
     "text": [
      "1\n",
      "15\n",
      "['1', '10', '15']\n"
     ]
    }
   ],
   "source": [
    "a=[\"10\",\"1\", \"15\"]\n",
    "print(min(a))\n",
    "print(max(a))\n",
    "print(sorted(a))"
   ]
  },
  {
   "cell_type": "code",
   "execution_count": 9,
   "id": "a9a7f616",
   "metadata": {},
   "outputs": [
    {
     "name": "stdout",
     "output_type": "stream",
     "text": [
      "Ram\n"
     ]
    }
   ],
   "source": [
    "#indexing from string\n",
    "a=[\"Ganesh\",\"1\", \"Chennai\", \"Ram\", \"2\", \"madurai\"]\n",
    "print(a[3])"
   ]
  },
  {
   "cell_type": "code",
   "execution_count": 11,
   "id": "aaa4724b",
   "metadata": {},
   "outputs": [
    {
     "name": "stdout",
     "output_type": "stream",
     "text": [
      "['Ganesh', '1', 'City', 'Ram', '2', 'madurai']\n"
     ]
    }
   ],
   "source": [
    "#changing value in a list\n",
    "a[2]=\"City\"\n",
    "print(a)"
   ]
  },
  {
   "cell_type": "code",
   "execution_count": 40,
   "id": "23a66430",
   "metadata": {},
   "outputs": [
    {
     "name": "stdout",
     "output_type": "stream",
     "text": [
      "['Ganesh', '1', 'Chennai', 'Ram', '2', 'madurai', 'Demo']\n"
     ]
    }
   ],
   "source": [
    "# append help to add a value at the end of list\n",
    "a=[\"Ganesh\",\"1\", \"Chennai\", \"Ram\", \"2\", \"madurai\"]\n",
    "a.append(\"Demo\")\n",
    "print(a)"
   ]
  },
  {
   "cell_type": "code",
   "execution_count": 41,
   "id": "b571ee92",
   "metadata": {},
   "outputs": [
    {
     "name": "stdout",
     "output_type": "stream",
     "text": [
      "['Ganesh', '1', 'ins', 'Chennai', 'Ram', '2', 'madurai']\n"
     ]
    }
   ],
   "source": [
    "# insert help to add a value at the position we want to add\n",
    "a=[\"Ganesh\",\"1\", \"Chennai\", \"Ram\", \"2\", \"madurai\"]\n",
    "a.insert(2,\"ins\")\n",
    "print(a)"
   ]
  },
  {
   "cell_type": "code",
   "execution_count": 20,
   "id": "4b426bb8",
   "metadata": {},
   "outputs": [
    {
     "name": "stdout",
     "output_type": "stream",
     "text": [
      "['Ganesh', 'Chennai', 'Ram', '2', 'madurai']\n"
     ]
    }
   ],
   "source": [
    "#remove will remove the value from the list\n",
    "a=[\"Ganesh\",\"1\", \"Chennai\", \"Ram\", \"2\", \"madurai\"]\n",
    "a.remove(\"1\")\n",
    "print(a)"
   ]
  },
  {
   "cell_type": "code",
   "execution_count": 21,
   "id": "dce59da6",
   "metadata": {},
   "outputs": [
    {
     "name": "stdout",
     "output_type": "stream",
     "text": [
      "['Ganesh', '1', 'Chennai', '2', 'madurai']\n"
     ]
    }
   ],
   "source": [
    "# del if we dont know the value, then we can use del with help of position\n",
    "a=[\"Ganesh\",\"1\", \"Chennai\", \"Ram\", \"2\", \"madurai\"]\n",
    "del a[3]\n",
    "print(a)"
   ]
  },
  {
   "cell_type": "code",
   "execution_count": 24,
   "id": "411bab6a",
   "metadata": {},
   "outputs": [
    {
     "name": "stdout",
     "output_type": "stream",
     "text": [
      "['Ganesh', '1', 'Chennai', 'Ram', '2', 'madurai']\n"
     ]
    }
   ],
   "source": [
    "#remove will remove the first instances only\n",
    "a=[\"Ganesh\",\"1\", \"1\", \"Chennai\", \"Ram\", \"2\", \"madurai\"]\n",
    "a.remove(\"1\")\n",
    "print(a)"
   ]
  },
  {
   "cell_type": "code",
   "execution_count": 27,
   "id": "2e34c7aa",
   "metadata": {},
   "outputs": [],
   "source": [
    "#3.9.6 - version of Python we use"
   ]
  },
  {
   "cell_type": "code",
   "execution_count": 30,
   "id": "65d0c4bf",
   "metadata": {},
   "outputs": [
    {
     "ename": "AttributeError",
     "evalue": "'list' object has no attribute 'find'",
     "output_type": "error",
     "traceback": [
      "\u001b[1;31m---------------------------------------------------------------------------\u001b[0m",
      "\u001b[1;31mAttributeError\u001b[0m                            Traceback (most recent call last)",
      "\u001b[1;32m~\\AppData\\Local\\Temp\\ipykernel_9812\\1301932731.py\u001b[0m in \u001b[0;36m<module>\u001b[1;34m\u001b[0m\n\u001b[0;32m      1\u001b[0m \u001b[1;31m# rindex, find, rfind - will not work in list\u001b[0m\u001b[1;33m\u001b[0m\u001b[1;33m\u001b[0m\u001b[0m\n\u001b[0;32m      2\u001b[0m \u001b[0ma\u001b[0m\u001b[1;33m=\u001b[0m\u001b[1;33m[\u001b[0m\u001b[1;34m\"Ganesh\"\u001b[0m\u001b[1;33m,\u001b[0m\u001b[1;34m\"1\"\u001b[0m\u001b[1;33m,\u001b[0m \u001b[1;34m\"1\"\u001b[0m\u001b[1;33m,\u001b[0m \u001b[1;34m\"Chennai\"\u001b[0m\u001b[1;33m,\u001b[0m \u001b[1;34m\"Ram\"\u001b[0m\u001b[1;33m,\u001b[0m \u001b[1;34m\"2\"\u001b[0m\u001b[1;33m,\u001b[0m \u001b[1;34m\"madurai\"\u001b[0m\u001b[1;33m]\u001b[0m\u001b[1;33m\u001b[0m\u001b[1;33m\u001b[0m\u001b[0m\n\u001b[1;32m----> 3\u001b[1;33m \u001b[0ma\u001b[0m\u001b[1;33m.\u001b[0m\u001b[0mfind\u001b[0m\u001b[1;33m(\u001b[0m\u001b[1;34m\"1\"\u001b[0m\u001b[1;33m)\u001b[0m\u001b[1;33m\u001b[0m\u001b[1;33m\u001b[0m\u001b[0m\n\u001b[0m",
      "\u001b[1;31mAttributeError\u001b[0m: 'list' object has no attribute 'find'"
     ]
    }
   ],
   "source": [
    "# rindex, find, rfind - will not work in list\n",
    "a=[\"Ganesh\",\"1\", \"1\", \"Chennai\", \"Ram\", \"2\", \"madurai\"]\n",
    "a.find(\"1\")"
   ]
  },
  {
   "cell_type": "code",
   "execution_count": 35,
   "id": "4595a744",
   "metadata": {},
   "outputs": [
    {
     "name": "stdout",
     "output_type": "stream",
     "text": [
      "['hi', 'hello', ['welcome', 'World']]\n"
     ]
    }
   ],
   "source": [
    "#when we try to add a list to a list\n",
    "a=[\"hi\", \"hello\"]\n",
    "b=[\"welcome\", \"World\"]\n",
    "a.append(b)\n",
    "print(a)\n",
    "#here we can see b list is adding as a seperate list in a, to avoid this we use extend "
   ]
  },
  {
   "cell_type": "code",
   "execution_count": 39,
   "id": "90179674",
   "metadata": {},
   "outputs": [
    {
     "name": "stdout",
     "output_type": "stream",
     "text": [
      "['hi', 'hello', 'welcome', 'World']\n"
     ]
    }
   ],
   "source": [
    "a=[\"hi\", \"hello\"]\n",
    "b=[\"welcome\", \"World\"]\n",
    "a.extend(b)\n",
    "print(a)"
   ]
  },
  {
   "cell_type": "code",
   "execution_count": 44,
   "id": "3f862b95",
   "metadata": {},
   "outputs": [
    {
     "name": "stdout",
     "output_type": "stream",
     "text": [
      "[1, 2, 3, 4]\n",
      "[1, 2, 3, 4]\n"
     ]
    }
   ],
   "source": [
    "#Shallow Copy and Deep Copy\n",
    "# Shallow Copy- when two variables assign to same memory\n",
    "a=[1,2,3]\n",
    "b=a\n",
    "a.append(4)\n",
    "print (a)\n",
    "print(b)"
   ]
  },
  {
   "cell_type": "code",
   "execution_count": 47,
   "id": "8be7ed96",
   "metadata": {},
   "outputs": [
    {
     "name": "stdout",
     "output_type": "stream",
     "text": [
      "[1, 2, 3, 4]\n",
      "[1, 2, 3]\n"
     ]
    }
   ],
   "source": [
    "#Deep Copy- when two variables assign to different memory\n",
    "a=[1,2,3]\n",
    "b=a.copy()\n",
    "a.append(4)\n",
    "print (a)\n",
    "print(b)\n"
   ]
  },
  {
   "cell_type": "code",
   "execution_count": 53,
   "id": "bcd579b7",
   "metadata": {},
   "outputs": [
    {
     "data": {
      "text/plain": [
       "2"
      ]
     },
     "execution_count": 53,
     "metadata": {},
     "output_type": "execute_result"
    }
   ],
   "source": [
    "#to find count in a\n",
    "a=[\"hello\", \"hello\"]\n",
    "a.count(\"hello\")"
   ]
  },
  {
   "cell_type": "code",
   "execution_count": 59,
   "id": "7b0a8521",
   "metadata": {},
   "outputs": [
    {
     "name": "stdout",
     "output_type": "stream",
     "text": [
      "True\n",
      "False\n"
     ]
    }
   ],
   "source": [
    "#to check whether the value is present in list or not\n",
    "a=[\"hello\", \"hello\"]\n",
    "print(\"hello\" in a)\n",
    "print(\"Welcome\" in a)"
   ]
  },
  {
   "cell_type": "code",
   "execution_count": 60,
   "id": "8834bfed",
   "metadata": {},
   "outputs": [
    {
     "name": "stdout",
     "output_type": "stream",
     "text": [
      "<class 'tuple'>\n",
      "True\n"
     ]
    }
   ],
   "source": [
    "#() anything within () is tuple\n",
    "a=(\"Hi\", \"Hello\")\n",
    "print(type(a))\n",
    "print(isinstance(a,tuple))"
   ]
  },
  {
   "cell_type": "code",
   "execution_count": 61,
   "id": "af0815dc",
   "metadata": {},
   "outputs": [
    {
     "ename": "AttributeError",
     "evalue": "'tuple' object has no attribute 'append'",
     "output_type": "error",
     "traceback": [
      "\u001b[1;31m---------------------------------------------------------------------------\u001b[0m",
      "\u001b[1;31mAttributeError\u001b[0m                            Traceback (most recent call last)",
      "\u001b[1;32m~\\AppData\\Local\\Temp\\ipykernel_9812\\44586987.py\u001b[0m in \u001b[0;36m<module>\u001b[1;34m\u001b[0m\n\u001b[0;32m      1\u001b[0m \u001b[0ma\u001b[0m\u001b[1;33m=\u001b[0m\u001b[1;33m(\u001b[0m\u001b[1;34m\"Hi\"\u001b[0m\u001b[1;33m,\u001b[0m \u001b[1;34m\"Hello\"\u001b[0m\u001b[1;33m)\u001b[0m\u001b[1;33m\u001b[0m\u001b[1;33m\u001b[0m\u001b[0m\n\u001b[1;32m----> 2\u001b[1;33m \u001b[0ma\u001b[0m\u001b[1;33m.\u001b[0m\u001b[0mappend\u001b[0m\u001b[1;33m(\u001b[0m\u001b[1;34m\"Welcome\"\u001b[0m\u001b[1;33m)\u001b[0m\u001b[1;33m\u001b[0m\u001b[1;33m\u001b[0m\u001b[0m\n\u001b[0m\u001b[0;32m      3\u001b[0m \u001b[0mprint\u001b[0m\u001b[1;33m(\u001b[0m\u001b[0ma\u001b[0m\u001b[1;33m)\u001b[0m\u001b[1;33m\u001b[0m\u001b[1;33m\u001b[0m\u001b[0m\n",
      "\u001b[1;31mAttributeError\u001b[0m: 'tuple' object has no attribute 'append'"
     ]
    }
   ],
   "source": [
    "a=(\"Hi\", \"Hello\")\n",
    "a.append(\"Welcome\")\n",
    "print(a)"
   ]
  },
  {
   "cell_type": "code",
   "execution_count": 65,
   "id": "d650b5c2",
   "metadata": {},
   "outputs": [],
   "source": [
    "# tuple is immutable, whereas list is mutable(editable)\n",
    "# tuple is faster when compared to list\n",
    "#indexing will work in typle but other editable line (del, remove, append will not work) "
   ]
  },
  {
   "cell_type": "code",
   "execution_count": 104,
   "id": "1be976f8",
   "metadata": {},
   "outputs": [
    {
     "name": "stdout",
     "output_type": "stream",
     "text": [
      "<class 'set'>\n",
      "True\n"
     ]
    }
   ],
   "source": [
    "#set\n",
    "a={\"Hi\", \"Hello\"}\n",
    "print(type(a))\n",
    "print(isinstance(a,set))"
   ]
  },
  {
   "cell_type": "code",
   "execution_count": 81,
   "id": "52226397",
   "metadata": {},
   "outputs": [
    {
     "name": "stdout",
     "output_type": "stream",
     "text": [
      "{'Hello', 'Hi'}\n"
     ]
    }
   ],
   "source": [
    "a={\"Hi\", \"Hello\"}\n",
    "\n",
    "print(a)"
   ]
  },
  {
   "cell_type": "code",
   "execution_count": 69,
   "id": "94af9410",
   "metadata": {},
   "outputs": [
    {
     "name": "stdout",
     "output_type": "stream",
     "text": [
      "{1, 2, 3}\n"
     ]
    }
   ],
   "source": [
    "#Set advantage is it will remove the Dupliactes\n",
    "a={1,1,1,1,1,1,1,2,2,2,2,3,3,3,3,3}\n",
    "print(a)"
   ]
  },
  {
   "cell_type": "code",
   "execution_count": 74,
   "id": "3e7bd1a8",
   "metadata": {},
   "outputs": [
    {
     "name": "stdout",
     "output_type": "stream",
     "text": [
      "{1, 2}\n",
      "[1, 2]\n"
     ]
    }
   ],
   "source": [
    "#how to remove dupliactes from list\n",
    "a=[1,1,1,2,2,2]\n",
    "print(set(a))\n",
    "print(list(set(a)))"
   ]
  },
  {
   "cell_type": "code",
   "execution_count": 80,
   "id": "8359f11b",
   "metadata": {},
   "outputs": [
    {
     "name": "stdout",
     "output_type": "stream",
     "text": [
      "[1, 2, 3]\n"
     ]
    }
   ],
   "source": [
    "#pop - removes the value from the string \n",
    "a=[1,2,3,4]\n",
    "a.pop()\n",
    "print(a)"
   ]
  },
  {
   "cell_type": "code",
   "execution_count": 87,
   "id": "aa970168",
   "metadata": {},
   "outputs": [
    {
     "ename": "AttributeError",
     "evalue": "'set' object has no attribute 'index'",
     "output_type": "error",
     "traceback": [
      "\u001b[1;31m---------------------------------------------------------------------------\u001b[0m",
      "\u001b[1;31mAttributeError\u001b[0m                            Traceback (most recent call last)",
      "\u001b[1;32m~\\AppData\\Local\\Temp\\ipykernel_9812\\2325788124.py\u001b[0m in \u001b[0;36m<module>\u001b[1;34m\u001b[0m\n\u001b[0;32m      1\u001b[0m \u001b[1;31m#indexing will not work in set\u001b[0m\u001b[1;33m\u001b[0m\u001b[1;33m\u001b[0m\u001b[0m\n\u001b[0;32m      2\u001b[0m \u001b[0ma\u001b[0m\u001b[1;33m=\u001b[0m\u001b[1;33m{\u001b[0m\u001b[1;34m\"Hi\"\u001b[0m\u001b[1;33m,\u001b[0m \u001b[1;34m\"Hello\"\u001b[0m\u001b[1;33m}\u001b[0m\u001b[1;33m\u001b[0m\u001b[1;33m\u001b[0m\u001b[0m\n\u001b[1;32m----> 3\u001b[1;33m \u001b[0ma\u001b[0m\u001b[1;33m.\u001b[0m\u001b[0mindex\u001b[0m\u001b[1;33m(\u001b[0m\u001b[1;34m\"Hi\"\u001b[0m\u001b[1;33m)\u001b[0m\u001b[1;33m\u001b[0m\u001b[1;33m\u001b[0m\u001b[0m\n\u001b[0m",
      "\u001b[1;31mAttributeError\u001b[0m: 'set' object has no attribute 'index'"
     ]
    }
   ],
   "source": [
    "#indexing will not work in set\n",
    "a={\"Hi\", \"Hello\"}\n",
    "a.index(\"Hi\")\n"
   ]
  },
  {
   "cell_type": "code",
   "execution_count": 84,
   "id": "268bf6f0",
   "metadata": {},
   "outputs": [
    {
     "name": "stdout",
     "output_type": "stream",
     "text": [
      "{1, 2, 3, 4, 5, 6, 7, 8, 9}\n",
      "{5}\n",
      "{1, 2, 3, 4}\n"
     ]
    }
   ],
   "source": [
    "a={1,2,3,4,5}\n",
    "b={5,6,7,8,9}\n",
    "print(a.union(b))\n",
    "print(a.intersection(b))\n",
    "print(a.difference(b))"
   ]
  },
  {
   "cell_type": "code",
   "execution_count": 102,
   "id": "fcf8204f",
   "metadata": {},
   "outputs": [
    {
     "name": "stdout",
     "output_type": "stream",
     "text": [
      "{'Hello', 'Hi', 'Welcome'}\n"
     ]
    }
   ],
   "source": [
    "a={\"Hi\", \"Hello\"}\n",
    "a.add(\"Welcome\")\n",
    "print(a)"
   ]
  },
  {
   "cell_type": "code",
   "execution_count": 101,
   "id": "fb101427",
   "metadata": {},
   "outputs": [
    {
     "name": "stdout",
     "output_type": "stream",
     "text": [
      "{'Hello', 'Hi'}\n"
     ]
    }
   ],
   "source": [
    "a={\"Hi\", \"Hello\",\"Welcome\"}\n",
    "a.remove(\"Welcome\")\n",
    "print(a)"
   ]
  },
  {
   "cell_type": "code",
   "execution_count": 103,
   "id": "acb9a75b",
   "metadata": {},
   "outputs": [
    {
     "name": "stdout",
     "output_type": "stream",
     "text": [
      "<class 'dict'>\n",
      "True\n"
     ]
    }
   ],
   "source": [
    "#Dictionary - when we have a specfic field like name, age we use dict \n",
    "a={\"name\":\"Ram\", \"location\":\"Chennai\", \"age\":\"21\"}\n",
    "print(type(a))\n",
    "print(isinstance(a,dict))"
   ]
  },
  {
   "cell_type": "code",
   "execution_count": 3,
   "id": "544054db",
   "metadata": {},
   "outputs": [
    {
     "ename": "TypeError",
     "evalue": "'set' object is not subscriptable",
     "output_type": "error",
     "traceback": [
      "\u001b[1;31m---------------------------------------------------------------------------\u001b[0m",
      "\u001b[1;31mTypeError\u001b[0m                                 Traceback (most recent call last)",
      "\u001b[1;32m~\\AppData\\Local\\Temp\\ipykernel_19284\\1360305322.py\u001b[0m in \u001b[0;36m<module>\u001b[1;34m\u001b[0m\n\u001b[0;32m      1\u001b[0m \u001b[0ma\u001b[0m\u001b[1;33m=\u001b[0m\u001b[1;33m{\u001b[0m\u001b[1;34m\"Hi\"\u001b[0m\u001b[1;33m,\u001b[0m \u001b[1;34m\"Hello\"\u001b[0m\u001b[1;33m,\u001b[0m\u001b[1;34m\"Welcome\"\u001b[0m\u001b[1;33m}\u001b[0m\u001b[1;33m\u001b[0m\u001b[1;33m\u001b[0m\u001b[0m\n\u001b[1;32m----> 2\u001b[1;33m \u001b[0mprint\u001b[0m\u001b[1;33m(\u001b[0m\u001b[0ma\u001b[0m\u001b[1;33m[\u001b[0m\u001b[1;36m0\u001b[0m\u001b[1;33m]\u001b[0m\u001b[1;33m)\u001b[0m\u001b[1;33m\u001b[0m\u001b[1;33m\u001b[0m\u001b[0m\n\u001b[0m\u001b[0;32m      3\u001b[0m \u001b[1;33m\u001b[0m\u001b[0m\n",
      "\u001b[1;31mTypeError\u001b[0m: 'set' object is not subscriptable"
     ]
    }
   ],
   "source": [
    "a={\"Hi\", \"Hello\",\"Welcome\"}\n",
    "\n",
    "print(a[0])\n",
    "\n"
   ]
  },
  {
   "cell_type": "code",
   "execution_count": 106,
   "id": "9055c36b",
   "metadata": {},
   "outputs": [
    {
     "name": "stdout",
     "output_type": "stream",
     "text": [
      "{'name': 'Ganesh', 'location': 'Chennai', 'age': '21'}\n"
     ]
    }
   ],
   "source": [
    "a={\"name\":\"Ram\", \"location\":\"Chennai\", \"age\":\"21\", \"name\": \"Ganesh\"}\n",
    "print(a)\n",
    "#here name is Ganesh as Dictionary will take the last assigned value to a Key"
   ]
  },
  {
   "cell_type": "code",
   "execution_count": 108,
   "id": "7da02a21",
   "metadata": {},
   "outputs": [
    {
     "name": "stdout",
     "output_type": "stream",
     "text": [
      "age\n",
      "name\n",
      "['age', 'location', 'name']\n"
     ]
    }
   ],
   "source": [
    "print(min(a))\n",
    "print(max(a))\n",
    "print(sorted(a))\n",
    "#here min max, sort everything happens only with Keys"
   ]
  },
  {
   "cell_type": "code",
   "execution_count": 110,
   "id": "def20053",
   "metadata": {},
   "outputs": [
    {
     "name": "stdout",
     "output_type": "stream",
     "text": [
      "dict_keys(['name', 'location', 'age'])\n",
      "dict_values(['Ganesh', 'Chennai', '21'])\n",
      "dict_items([('name', 'Ganesh'), ('location', 'Chennai'), ('age', '21')])\n"
     ]
    }
   ],
   "source": [
    "print(a.keys()) #takes only the Keys in Dict\n",
    "print(a.values()) #takes only the values in Dict\n",
    "print(a.items()) #takes both keys and values but as a list in Dict"
   ]
  },
  {
   "cell_type": "code",
   "execution_count": 111,
   "id": "ce77d925",
   "metadata": {},
   "outputs": [
    {
     "name": "stdout",
     "output_type": "stream",
     "text": [
      "{'name': 'Kishore', 'location': 'Chennai', 'age': '21'}\n"
     ]
    }
   ],
   "source": [
    "#when we need change a value for a key\n",
    "a={\"name\":\"Ram\", \"location\":\"Chennai\", \"age\":\"21\"}\n",
    "a[\"name\"]=\"Kishore\"\n",
    "print(a)"
   ]
  },
  {
   "cell_type": "code",
   "execution_count": 112,
   "id": "539ec5cf",
   "metadata": {},
   "outputs": [
    {
     "name": "stdout",
     "output_type": "stream",
     "text": [
      "{'name': 'Ram', 'location': 'Chennai', 'age': '21', 'Gender': 'Male'}\n"
     ]
    }
   ],
   "source": [
    "#when we need to add a value in Dict\n",
    "a={\"name\":\"Ram\", \"location\":\"Chennai\", \"age\":\"21\"}\n",
    "a[\"Gender\"]=\"Male\"\n",
    "print(a)"
   ]
  },
  {
   "cell_type": "code",
   "execution_count": 117,
   "id": "36955be5",
   "metadata": {},
   "outputs": [
    {
     "data": {
      "text/plain": [
       "('age', '21')"
      ]
     },
     "execution_count": 117,
     "metadata": {},
     "output_type": "execute_result"
    }
   ],
   "source": [
    "#popitem removes the last value in Dict\n",
    "a={\"name\":\"Ram\", \"location\":\"Chennai\", \"age\":\"21\"}\n",
    "a.popitem()\n"
   ]
  },
  {
   "cell_type": "code",
   "execution_count": 116,
   "id": "db87e0ed",
   "metadata": {},
   "outputs": [
    {
     "name": "stdout",
     "output_type": "stream",
     "text": [
      "{'name': 'Ram', 'location': 'Chennai'}\n"
     ]
    }
   ],
   "source": [
    "print(a)"
   ]
  },
  {
   "cell_type": "code",
   "execution_count": 122,
   "id": "bf51babe",
   "metadata": {},
   "outputs": [
    {
     "ename": "AttributeError",
     "evalue": "'dict' object has no attribute 'remove'",
     "output_type": "error",
     "traceback": [
      "\u001b[1;31m---------------------------------------------------------------------------\u001b[0m",
      "\u001b[1;31mAttributeError\u001b[0m                            Traceback (most recent call last)",
      "\u001b[1;32m~\\AppData\\Local\\Temp\\ipykernel_9812\\457740568.py\u001b[0m in \u001b[0;36m<module>\u001b[1;34m\u001b[0m\n\u001b[0;32m      1\u001b[0m \u001b[0ma\u001b[0m\u001b[1;33m=\u001b[0m\u001b[1;33m{\u001b[0m\u001b[1;34m\"name\"\u001b[0m\u001b[1;33m:\u001b[0m\u001b[1;34m\"Ram\"\u001b[0m\u001b[1;33m,\u001b[0m \u001b[1;34m\"location\"\u001b[0m\u001b[1;33m:\u001b[0m\u001b[1;34m\"Chennai\"\u001b[0m\u001b[1;33m,\u001b[0m \u001b[1;34m\"age\"\u001b[0m\u001b[1;33m:\u001b[0m\u001b[1;34m\"21\"\u001b[0m\u001b[1;33m}\u001b[0m\u001b[1;33m\u001b[0m\u001b[1;33m\u001b[0m\u001b[0m\n\u001b[1;32m----> 2\u001b[1;33m \u001b[0ma\u001b[0m\u001b[1;33m.\u001b[0m\u001b[0mremove\u001b[0m\u001b[1;33m(\u001b[0m\u001b[1;34m\"age\"\u001b[0m\u001b[1;33m)\u001b[0m\u001b[1;33m\u001b[0m\u001b[1;33m\u001b[0m\u001b[0m\n\u001b[0m\u001b[0;32m      3\u001b[0m \u001b[0mprint\u001b[0m\u001b[1;33m(\u001b[0m\u001b[0ma\u001b[0m\u001b[1;33m)\u001b[0m\u001b[1;33m\u001b[0m\u001b[1;33m\u001b[0m\u001b[0m\n",
      "\u001b[1;31mAttributeError\u001b[0m: 'dict' object has no attribute 'remove'"
     ]
    }
   ],
   "source": [
    "a={\"name\":\"Ram\", \"location\":\"Chennai\", \"age\":\"21\"}\n",
    "a.remove(\"age\")\n",
    "print(a)"
   ]
  },
  {
   "cell_type": "code",
   "execution_count": null,
   "id": "89355200",
   "metadata": {},
   "outputs": [],
   "source": []
  }
 ],
 "metadata": {
  "kernelspec": {
   "display_name": "Python 3 (ipykernel)",
   "language": "python",
   "name": "python3"
  },
  "language_info": {
   "codemirror_mode": {
    "name": "ipython",
    "version": 3
   },
   "file_extension": ".py",
   "mimetype": "text/x-python",
   "name": "python",
   "nbconvert_exporter": "python",
   "pygments_lexer": "ipython3",
   "version": "3.9.13"
  }
 },
 "nbformat": 4,
 "nbformat_minor": 5
}
